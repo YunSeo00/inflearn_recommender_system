{
 "cells": [
  {
   "cell_type": "markdown",
   "source": [
    "### 6.2 Keras로 MF 구현하기\n"
   ],
   "metadata": {
    "collapsed": false
   }
  },
  {
   "cell_type": "code",
   "execution_count": 1,
   "outputs": [],
   "source": [
    "import pandas as pd\n",
    "from sklearn.model_selection import train_test_split\n",
    "import tensorflow as tf\n",
    "from tensorflow.keras import layers\n",
    "from tensorflow.keras.models import Model\n",
    "from tensorflow.keras.layers import Input, Embedding, Dot, Add, Flatten\n",
    "from tensorflow.keras.regularizers import l2\n",
    "from tensorflow.keras.optimizers import SGD, Adamax"
   ],
   "metadata": {
    "collapsed": false
   }
  },
  {
   "cell_type": "code",
   "execution_count": 2,
   "outputs": [],
   "source": [
    "import os\n",
    "base_src = '../data'\n",
    "u_data_src = os.path.join(base_src, 'u.data')\n",
    "r_cols = ['user_id', 'movie_id', 'rating', 'timestamp']\n",
    "ratings = pd.read_csv(u_data_src,\n",
    "                    sep = \"\\t\",\n",
    "                    names = r_cols,\n",
    "                    encoding = 'latin-1')\n",
    "\n",
    "ratings_train, ratings_test = train_test_split(ratings,\n",
    "                                               test_size = 0.2,\n",
    "                                               shuffle=True,\n",
    "                                               random_state=2023)"
   ],
   "metadata": {
    "collapsed": false
   }
  },
  {
   "cell_type": "code",
   "execution_count": 3,
   "outputs": [],
   "source": [
    "K = 200\n",
    "mu = ratings_train.rating.mean()\n",
    "\n",
    "M = ratings.user_id.max() + 1 # 이후 bias term이 들어갈 자리 추가\n",
    "N = ratings.movie_id.max() + 1\n",
    "\n",
    "def RMSE(y_true, y_pred):\n",
    "    return tf.sqrt(tf.reduce_mean(tf.square(y_true - y_pred)))"
   ],
   "metadata": {
    "collapsed": false
   }
  },
  {
   "cell_type": "code",
   "execution_count": 4,
   "outputs": [
    {
     "name": "stdout",
     "output_type": "stream",
     "text": [
      "Metal device set to: Apple M1\n"
     ]
    },
    {
     "name": "stderr",
     "output_type": "stream",
     "text": [
      "2023-04-03 21:11:38.842406: I tensorflow/core/common_runtime/pluggable_device/pluggable_device_factory.cc:305] Could not identify NUMA node of platform GPU ID 0, defaulting to 0. Your kernel may not have been built with NUMA support.\n",
      "2023-04-03 21:11:38.842546: I tensorflow/core/common_runtime/pluggable_device/pluggable_device_factory.cc:271] Created TensorFlow device (/job:localhost/replica:0/task:0/device:GPU:0 with 0 MB memory) -> physical PluggableDevice (device: 0, name: METAL, pci bus id: <undefined>)\n"
     ]
    }
   ],
   "source": [
    "user = Input(shape = (1,))\n",
    "item = Input(shape = (1,))\n",
    "\n",
    "P_embedding = Embedding(M, K, embeddings_regularizer=l2())(user)\n",
    "Q_embedding = Embedding(N, K, embeddings_regularizer=l2())(item)\n",
    "\n",
    "user_bias = Embedding(M, 1, embeddings_regularizer=l2())(user)\n",
    "item_bias = Embedding(N, 1, embeddings_regularizer=l2())(item)"
   ],
   "metadata": {
    "collapsed": false
   }
  },
  {
   "cell_type": "code",
   "execution_count": 5,
   "outputs": [
    {
     "name": "stdout",
     "output_type": "stream",
     "text": [
      "Model: \"model\"\n",
      "__________________________________________________________________________________________________\n",
      " Layer (type)                   Output Shape         Param #     Connected to                     \n",
      "==================================================================================================\n",
      " input_1 (InputLayer)           [(None, 1)]          0           []                               \n",
      "                                                                                                  \n",
      " input_2 (InputLayer)           [(None, 1)]          0           []                               \n",
      "                                                                                                  \n",
      " embedding (Embedding)          (None, 1, 200)       188800      ['input_1[0][0]']                \n",
      "                                                                                                  \n",
      " embedding_1 (Embedding)        (None, 1, 200)       336600      ['input_2[0][0]']                \n",
      "                                                                                                  \n",
      " dot (Dot)                      (None, 1, 1)         0           ['embedding[0][0]',              \n",
      "                                                                  'embedding_1[0][0]']            \n",
      "                                                                                                  \n",
      " embedding_2 (Embedding)        (None, 1, 1)         944         ['input_1[0][0]']                \n",
      "                                                                                                  \n",
      " embedding_3 (Embedding)        (None, 1, 1)         1683        ['input_2[0][0]']                \n",
      "                                                                                                  \n",
      " add (Add)                      (None, 1, 1)         0           ['dot[0][0]',                    \n",
      "                                                                  'embedding_2[0][0]',            \n",
      "                                                                  'embedding_3[0][0]']            \n",
      "                                                                                                  \n",
      " flatten (Flatten)              (None, 1)            0           ['add[0][0]']                    \n",
      "                                                                                                  \n",
      "==================================================================================================\n",
      "Total params: 528,027\n",
      "Trainable params: 528,027\n",
      "Non-trainable params: 0\n",
      "__________________________________________________________________________________________________\n"
     ]
    }
   ],
   "source": [
    "R = layers.dot([P_embedding, Q_embedding], axes = (2,2))\n",
    "R = layers.add([R, user_bias, item_bias])\n",
    "R = Flatten()(R)\n",
    "\n",
    "model = Model(inputs=[user, item], outputs = R)\n",
    "\n",
    "model.compile(\n",
    "    loss = RMSE,\n",
    "    optimizer = SGD(),\n",
    "    metrics = [RMSE]\n",
    ")\n",
    "\n",
    "model.summary()"
   ],
   "metadata": {
    "collapsed": false
   }
  },
  {
   "cell_type": "code",
   "execution_count": 6,
   "outputs": [
    {
     "name": "stdout",
     "output_type": "stream",
     "text": [
      "Epoch 1/60\n"
     ]
    },
    {
     "name": "stderr",
     "output_type": "stream",
     "text": [
      "2023-04-03 21:11:39.753647: W tensorflow/core/platform/profile_utils/cpu_utils.cc:128] Failed to get CPU frequency: 0 Hz\n",
      "2023-04-03 21:11:40.124097: I tensorflow/core/grappler/optimizers/custom_graph_optimizer_registry.cc:113] Plugin optimizer for device_type GPU is enabled.\n"
     ]
    },
    {
     "name": "stdout",
     "output_type": "stream",
     "text": [
      "313/313 [==============================] - ETA: 0s - loss: 5.2652 - RMSE: 1.1265"
     ]
    },
    {
     "name": "stderr",
     "output_type": "stream",
     "text": [
      "2023-04-03 21:11:43.794436: I tensorflow/core/grappler/optimizers/custom_graph_optimizer_registry.cc:113] Plugin optimizer for device_type GPU is enabled.\n"
     ]
    },
    {
     "name": "stdout",
     "output_type": "stream",
     "text": [
      "313/313 [==============================] - 5s 13ms/step - loss: 5.2652 - RMSE: 1.1265 - val_loss: 4.9978 - val_RMSE: 1.1137\n",
      "Epoch 2/60\n",
      "313/313 [==============================] - 4s 11ms/step - loss: 4.7760 - RMSE: 1.1245 - val_loss: 4.5389 - val_RMSE: 1.1118\n",
      "Epoch 3/60\n",
      "313/313 [==============================] - 4s 11ms/step - loss: 4.3445 - RMSE: 1.1224 - val_loss: 4.1341 - val_RMSE: 1.1100\n",
      "Epoch 4/60\n",
      "313/313 [==============================] - 3s 11ms/step - loss: 3.9639 - RMSE: 1.1207 - val_loss: 3.7769 - val_RMSE: 1.1084\n",
      "Epoch 5/60\n",
      "313/313 [==============================] - 4s 12ms/step - loss: 3.6280 - RMSE: 1.1191 - val_loss: 3.4618 - val_RMSE: 1.1069\n",
      "Epoch 6/60\n",
      "313/313 [==============================] - 5s 15ms/step - loss: 3.3315 - RMSE: 1.1172 - val_loss: 3.1838 - val_RMSE: 1.1055\n",
      "Epoch 7/60\n",
      "313/313 [==============================] - 5s 17ms/step - loss: 3.0702 - RMSE: 1.1161 - val_loss: 2.9386 - val_RMSE: 1.1042\n",
      "Epoch 8/60\n",
      "313/313 [==============================] - 4s 13ms/step - loss: 2.8396 - RMSE: 1.1147 - val_loss: 2.7223 - val_RMSE: 1.1030\n",
      "Epoch 9/60\n",
      "313/313 [==============================] - 5s 15ms/step - loss: 2.6361 - RMSE: 1.1136 - val_loss: 2.5314 - val_RMSE: 1.1019\n",
      "Epoch 10/60\n",
      "313/313 [==============================] - 4s 13ms/step - loss: 2.4565 - RMSE: 1.1122 - val_loss: 2.3630 - val_RMSE: 1.1009\n",
      "Epoch 11/60\n",
      "313/313 [==============================] - 4s 14ms/step - loss: 2.2981 - RMSE: 1.1113 - val_loss: 2.2144 - val_RMSE: 1.0999\n",
      "Epoch 12/60\n",
      "313/313 [==============================] - 4s 13ms/step - loss: 2.1586 - RMSE: 1.1106 - val_loss: 2.0834 - val_RMSE: 1.0990\n",
      "Epoch 13/60\n",
      "313/313 [==============================] - 4s 11ms/step - loss: 2.0352 - RMSE: 1.1093 - val_loss: 1.9677 - val_RMSE: 1.0982\n",
      "Epoch 14/60\n",
      "313/313 [==============================] - 4s 12ms/step - loss: 1.9266 - RMSE: 1.1087 - val_loss: 1.8657 - val_RMSE: 1.0975\n",
      "Epoch 15/60\n",
      "313/313 [==============================] - 4s 13ms/step - loss: 1.8306 - RMSE: 1.1081 - val_loss: 1.7757 - val_RMSE: 1.0968\n",
      "Epoch 16/60\n",
      "313/313 [==============================] - 4s 14ms/step - loss: 1.7458 - RMSE: 1.1073 - val_loss: 1.6963 - val_RMSE: 1.0961\n",
      "Epoch 17/60\n",
      "313/313 [==============================] - 4s 14ms/step - loss: 1.6712 - RMSE: 1.1065 - val_loss: 1.6263 - val_RMSE: 1.0955\n",
      "Epoch 18/60\n",
      "313/313 [==============================] - 4s 14ms/step - loss: 1.6052 - RMSE: 1.1059 - val_loss: 1.5645 - val_RMSE: 1.0950\n",
      "Epoch 19/60\n",
      "313/313 [==============================] - 4s 14ms/step - loss: 1.5472 - RMSE: 1.1053 - val_loss: 1.5100 - val_RMSE: 1.0944\n",
      "Epoch 20/60\n",
      "313/313 [==============================] - 4s 14ms/step - loss: 1.4957 - RMSE: 1.1047 - val_loss: 1.4619 - val_RMSE: 1.0940\n",
      "Epoch 21/60\n",
      "313/313 [==============================] - 4s 13ms/step - loss: 1.4507 - RMSE: 1.1045 - val_loss: 1.4194 - val_RMSE: 1.0935\n",
      "Epoch 22/60\n",
      "313/313 [==============================] - 4s 14ms/step - loss: 1.4107 - RMSE: 1.1040 - val_loss: 1.3820 - val_RMSE: 1.0931\n",
      "Epoch 23/60\n",
      "313/313 [==============================] - 4s 11ms/step - loss: 1.3755 - RMSE: 1.1035 - val_loss: 1.3490 - val_RMSE: 1.0927\n",
      "Epoch 24/60\n",
      "313/313 [==============================] - 4s 14ms/step - loss: 1.3444 - RMSE: 1.1030 - val_loss: 1.3198 - val_RMSE: 1.0923\n",
      "Epoch 25/60\n",
      "313/313 [==============================] - 5s 15ms/step - loss: 1.3170 - RMSE: 1.1027 - val_loss: 1.2941 - val_RMSE: 1.0920\n",
      "Epoch 26/60\n",
      "313/313 [==============================] - 4s 12ms/step - loss: 1.2928 - RMSE: 1.1024 - val_loss: 1.2715 - val_RMSE: 1.0917\n",
      "Epoch 27/60\n",
      "313/313 [==============================] - 4s 12ms/step - loss: 1.2715 - RMSE: 1.1020 - val_loss: 1.2515 - val_RMSE: 1.0914\n",
      "Epoch 28/60\n",
      "313/313 [==============================] - 5s 15ms/step - loss: 1.2525 - RMSE: 1.1017 - val_loss: 1.2338 - val_RMSE: 1.0911\n",
      "Epoch 29/60\n",
      "313/313 [==============================] - 4s 14ms/step - loss: 1.2360 - RMSE: 1.1015 - val_loss: 1.2182 - val_RMSE: 1.0909\n",
      "Epoch 30/60\n",
      "313/313 [==============================] - 4s 13ms/step - loss: 1.2214 - RMSE: 1.1013 - val_loss: 1.2045 - val_RMSE: 1.0907\n",
      "Epoch 31/60\n",
      "313/313 [==============================] - 4s 14ms/step - loss: 1.2084 - RMSE: 1.1009 - val_loss: 1.1924 - val_RMSE: 1.0904\n",
      "Epoch 32/60\n",
      "313/313 [==============================] - 5s 15ms/step - loss: 1.1971 - RMSE: 1.1010 - val_loss: 1.1817 - val_RMSE: 1.0902\n",
      "Epoch 33/60\n",
      "313/313 [==============================] - 5s 17ms/step - loss: 1.1869 - RMSE: 1.1006 - val_loss: 1.1723 - val_RMSE: 1.0901\n",
      "Epoch 34/60\n",
      "313/313 [==============================] - 4s 13ms/step - loss: 1.1781 - RMSE: 1.1003 - val_loss: 1.1639 - val_RMSE: 1.0899\n",
      "Epoch 35/60\n",
      "313/313 [==============================] - 4s 12ms/step - loss: 1.1702 - RMSE: 1.1004 - val_loss: 1.1566 - val_RMSE: 1.0897\n",
      "Epoch 36/60\n",
      "313/313 [==============================] - 4s 11ms/step - loss: 1.1633 - RMSE: 1.0999 - val_loss: 1.1501 - val_RMSE: 1.0896\n",
      "Epoch 37/60\n",
      "313/313 [==============================] - 4s 11ms/step - loss: 1.1572 - RMSE: 1.0998 - val_loss: 1.1444 - val_RMSE: 1.0894\n",
      "Epoch 38/60\n",
      "313/313 [==============================] - 3s 11ms/step - loss: 1.1519 - RMSE: 1.0997 - val_loss: 1.1394 - val_RMSE: 1.0893\n",
      "Epoch 39/60\n",
      "313/313 [==============================] - 3s 11ms/step - loss: 1.1472 - RMSE: 1.0998 - val_loss: 1.1349 - val_RMSE: 1.0892\n",
      "Epoch 40/60\n",
      "313/313 [==============================] - 3s 11ms/step - loss: 1.1428 - RMSE: 1.0994 - val_loss: 1.1310 - val_RMSE: 1.0891\n",
      "Epoch 41/60\n",
      "313/313 [==============================] - 4s 11ms/step - loss: 1.1393 - RMSE: 1.0993 - val_loss: 1.1275 - val_RMSE: 1.0889\n",
      "Epoch 42/60\n",
      "313/313 [==============================] - 3s 11ms/step - loss: 1.1360 - RMSE: 1.0992 - val_loss: 1.1245 - val_RMSE: 1.0888\n",
      "Epoch 43/60\n",
      "313/313 [==============================] - 4s 12ms/step - loss: 1.1331 - RMSE: 1.0990 - val_loss: 1.1218 - val_RMSE: 1.0887\n",
      "Epoch 44/60\n",
      "313/313 [==============================] - 4s 12ms/step - loss: 1.1306 - RMSE: 1.0991 - val_loss: 1.1194 - val_RMSE: 1.0887\n",
      "Epoch 45/60\n",
      "313/313 [==============================] - 4s 12ms/step - loss: 1.1285 - RMSE: 1.0991 - val_loss: 1.1173 - val_RMSE: 1.0886\n",
      "Epoch 46/60\n",
      "313/313 [==============================] - 4s 12ms/step - loss: 1.1263 - RMSE: 1.0990 - val_loss: 1.1155 - val_RMSE: 1.0885\n",
      "Epoch 47/60\n",
      "313/313 [==============================] - 4s 12ms/step - loss: 1.1246 - RMSE: 1.0987 - val_loss: 1.1138 - val_RMSE: 1.0884\n",
      "Epoch 48/60\n",
      "313/313 [==============================] - 4s 12ms/step - loss: 1.1230 - RMSE: 1.0987 - val_loss: 1.1124 - val_RMSE: 1.0884\n",
      "Epoch 49/60\n",
      "313/313 [==============================] - 4s 12ms/step - loss: 1.1217 - RMSE: 1.0985 - val_loss: 1.1111 - val_RMSE: 1.0883\n",
      "Epoch 50/60\n",
      "313/313 [==============================] - 3s 11ms/step - loss: 1.1206 - RMSE: 1.0987 - val_loss: 1.1100 - val_RMSE: 1.0883\n",
      "Epoch 51/60\n",
      "313/313 [==============================] - 3s 11ms/step - loss: 1.1196 - RMSE: 1.0986 - val_loss: 1.1090 - val_RMSE: 1.0882\n",
      "Epoch 52/60\n",
      "313/313 [==============================] - 3s 11ms/step - loss: 1.1187 - RMSE: 1.0987 - val_loss: 1.1081 - val_RMSE: 1.0882\n",
      "Epoch 53/60\n",
      "313/313 [==============================] - 3s 11ms/step - loss: 1.1177 - RMSE: 1.0984 - val_loss: 1.1074 - val_RMSE: 1.0881\n",
      "Epoch 54/60\n",
      "313/313 [==============================] - 3s 11ms/step - loss: 1.1170 - RMSE: 1.0985 - val_loss: 1.1067 - val_RMSE: 1.0881\n",
      "Epoch 55/60\n",
      "313/313 [==============================] - 3s 11ms/step - loss: 1.1164 - RMSE: 1.0985 - val_loss: 1.1061 - val_RMSE: 1.0880\n",
      "Epoch 56/60\n",
      "313/313 [==============================] - 4s 12ms/step - loss: 1.1158 - RMSE: 1.0984 - val_loss: 1.1056 - val_RMSE: 1.0880\n",
      "Epoch 57/60\n",
      "313/313 [==============================] - 4s 13ms/step - loss: 1.1153 - RMSE: 1.0983 - val_loss: 1.1051 - val_RMSE: 1.0880\n",
      "Epoch 58/60\n",
      "313/313 [==============================] - 4s 12ms/step - loss: 1.1148 - RMSE: 1.0984 - val_loss: 1.1047 - val_RMSE: 1.0879\n",
      "Epoch 59/60\n",
      "313/313 [==============================] - 4s 14ms/step - loss: 1.1144 - RMSE: 1.0982 - val_loss: 1.1043 - val_RMSE: 1.0879\n",
      "Epoch 60/60\n",
      "313/313 [==============================] - 4s 14ms/step - loss: 1.1142 - RMSE: 1.0982 - val_loss: 1.1040 - val_RMSE: 1.0879\n"
     ]
    }
   ],
   "source": [
    "result = model.fit(\n",
    "    x = [ratings_train.user_id.values,\n",
    "         ratings_train.movie_id.values],\n",
    "    y = ratings_train.rating.values - mu,\n",
    "\n",
    "    epochs = 60,\n",
    "    batch_size = 256,\n",
    "    validation_data = (\n",
    "        [ratings_test.user_id.values,\n",
    "         ratings_test.movie_id.values],\n",
    "        ratings_test.rating.values - mu\n",
    "    )\n",
    ")"
   ],
   "metadata": {
    "collapsed": false
   }
  },
  {
   "cell_type": "code",
   "execution_count": 7,
   "outputs": [
    {
     "data": {
      "text/plain": "<Figure size 640x480 with 1 Axes>",
      "image/png": "[encoded data removed]"
     },
     "metadata": {},
     "output_type": "display_data"
    }
   ],
   "source": [
    "# plot RMSE\n",
    "import matplotlib.pyplot as plt\n",
    "plt.plot(result.history['RMSE'], label = \"Train RMSE\")\n",
    "plt.plot(result.history['val_RMSE'], label = \"Test RMSE\")\n",
    "plt.legend()\n",
    "plt.show()"
   ],
   "metadata": {
    "collapsed": false
   }
  },
  {
   "cell_type": "code",
   "execution_count": 8,
   "outputs": [
    {
     "name": "stdout",
     "output_type": "stream",
     "text": [
      "1/1 [==============================] - 0s 135ms/step\n"
     ]
    },
    {
     "name": "stderr",
     "output_type": "stream",
     "text": [
      "2023-04-03 21:15:38.003824: I tensorflow/core/grappler/optimizers/custom_graph_optimizer_registry.cc:113] Plugin optimizer for device_type GPU is enabled.\n"
     ]
    }
   ],
   "source": [
    "user_ids = ratings_test.user_id.values[0:6]\n",
    "movie_ids = ratings_test.movie_id.values[0:6]\n",
    "\n",
    "predictions = model.predict([user_ids, movie_ids]) + mu"
   ],
   "metadata": {
    "collapsed": false
   }
  },
  {
   "cell_type": "code",
   "execution_count": 9,
   "outputs": [
    {
     "name": "stdout",
     "output_type": "stream",
     "text": [
      "       user_id  movie_id  rating  timestamp\n",
      "65740      256       986       5  882164059\n",
      "11139      326       204       3  879874964\n",
      "99196      910       205       4  880822060\n",
      "33120      330       105       4  876545150\n",
      "41199      378      1145       3  880334409\n",
      "94043      892      1269       5  886607958\n"
     ]
    }
   ],
   "source": [
    "print(ratings_test[0:6])"
   ],
   "metadata": {
    "collapsed": false
   }
  },
  {
   "cell_type": "code",
   "execution_count": 10,
   "outputs": [
    {
     "name": "stdout",
     "output_type": "stream",
     "text": [
      "[[3.5591903]\n",
      " [3.5645106]\n",
      " [3.5498328]\n",
      " [3.5571373]\n",
      " [3.5137947]\n",
      " [3.5756123]]\n"
     ]
    }
   ],
   "source": [
    "print(predictions)"
   ],
   "metadata": {
    "collapsed": false
   }
  },
  {
   "cell_type": "code",
   "execution_count": 11,
   "outputs": [],
   "source": [
    "import numpy as np\n",
    "\n",
    "def RMSE2(y_true, y_pred):\n",
    "    return np.sqrt(np.mean((np.array(y_true) - np.array(y_pred))**2))"
   ],
   "metadata": {
    "collapsed": false
   }
  },
  {
   "cell_type": "code",
   "execution_count": 12,
   "outputs": [
    {
     "name": "stdout",
     "output_type": "stream",
     "text": [
      "625/625 [==============================] - 2s 3ms/step\n"
     ]
    },
    {
     "data": {
      "text/plain": "1.088895636021346"
     },
     "execution_count": 12,
     "metadata": {},
     "output_type": "execute_result"
    }
   ],
   "source": [
    "user_ids = ratings_test.user_id.values\n",
    "movie_ids = ratings_test.movie_id.values\n",
    "\n",
    "y_pred = model.predict([user_ids, movie_ids]) + mu\n",
    "y_pred = np.ravel(y_pred, order = 'C')\n",
    "y_true = np.array(ratings_test.rating)\n",
    "\n",
    "RMSE2(y_true, y_pred)"
   ],
   "metadata": {
    "collapsed": false
   }
  },
  {
   "cell_type": "markdown",
   "source": [
    "### 6.3 딥러닝을 활용한 추천시스템"
   ],
   "metadata": {
    "collapsed": false
   }
  },
  {
   "cell_type": "code",
   "execution_count": 4,
   "outputs": [],
   "source": [
    "from tensorflow.keras.layers import Dense, Concatenate, Activation"
   ],
   "metadata": {
    "collapsed": false
   }
  },
  {
   "cell_type": "code",
   "execution_count": 5,
   "outputs": [
    {
     "name": "stderr",
     "output_type": "stream",
     "text": [
      "2023-04-03 21:40:08.965717: I tensorflow/core/common_runtime/pluggable_device/pluggable_device_factory.cc:305] Could not identify NUMA node of platform GPU ID 0, defaulting to 0. Your kernel may not have been built with NUMA support.\n",
      "2023-04-03 21:40:08.965835: I tensorflow/core/common_runtime/pluggable_device/pluggable_device_factory.cc:271] Created TensorFlow device (/job:localhost/replica:0/task:0/device:GPU:0 with 0 MB memory) -> physical PluggableDevice (device: 0, name: METAL, pci bus id: <undefined>)\n"
     ]
    },
    {
     "name": "stdout",
     "output_type": "stream",
     "text": [
      "Metal device set to: Apple M1\n",
      "Model: \"model\"\n",
      "__________________________________________________________________________________________________\n",
      " Layer (type)                   Output Shape         Param #     Connected to                     \n",
      "==================================================================================================\n",
      " input_1 (InputLayer)           [(None, 1)]          0           []                               \n",
      "                                                                                                  \n",
      " input_2 (InputLayer)           [(None, 1)]          0           []                               \n",
      "                                                                                                  \n",
      " embedding (Embedding)          (None, 1, 200)       188800      ['input_1[0][0]']                \n",
      "                                                                                                  \n",
      " embedding_1 (Embedding)        (None, 1, 200)       336600      ['input_2[0][0]']                \n",
      "                                                                                                  \n",
      " embedding_2 (Embedding)        (None, 1, 1)         944         ['input_1[0][0]']                \n",
      "                                                                                                  \n",
      " embedding_3 (Embedding)        (None, 1, 1)         1683        ['input_2[0][0]']                \n",
      "                                                                                                  \n",
      " flatten (Flatten)              (None, 200)          0           ['embedding[0][0]']              \n",
      "                                                                                                  \n",
      " flatten_1 (Flatten)            (None, 200)          0           ['embedding_1[0][0]']            \n",
      "                                                                                                  \n",
      " flatten_2 (Flatten)            (None, 1)            0           ['embedding_2[0][0]']            \n",
      "                                                                                                  \n",
      " flatten_3 (Flatten)            (None, 1)            0           ['embedding_3[0][0]']            \n",
      "                                                                                                  \n",
      " concatenate (Concatenate)      (None, 402)          0           ['flatten[0][0]',                \n",
      "                                                                  'flatten_1[0][0]',              \n",
      "                                                                  'flatten_2[0][0]',              \n",
      "                                                                  'flatten_3[0][0]']              \n",
      "                                                                                                  \n",
      " dense (Dense)                  (None, 2048)         825344      ['concatenate[0][0]']            \n",
      "                                                                                                  \n",
      " activation (Activation)        (None, 2048)         0           ['dense[0][0]']                  \n",
      "                                                                                                  \n",
      " dense_1 (Dense)                (None, 256)          524544      ['activation[0][0]']             \n",
      "                                                                                                  \n",
      " activation_1 (Activation)      (None, 256)          0           ['dense_1[0][0]']                \n",
      "                                                                                                  \n",
      " dense_2 (Dense)                (None, 1)            257         ['activation_1[0][0]']           \n",
      "                                                                                                  \n",
      "==================================================================================================\n",
      "Total params: 1,878,172\n",
      "Trainable params: 1,878,172\n",
      "Non-trainable params: 0\n",
      "__________________________________________________________________________________________________\n"
     ]
    }
   ],
   "source": [
    "user = Input(shape = (1,))\n",
    "item = Input(shape = (1,))\n",
    "\n",
    "P_embedding = Embedding(M, K, embeddings_regularizer=l2())(user)\n",
    "Q_embedding = Embedding(N, K, embeddings_regularizer=l2())(item)\n",
    "\n",
    "user_bias = Embedding(M, 1, embeddings_regularizer=l2())(user)\n",
    "item_bias = Embedding(N, 1, embeddings_regularizer=l2())(item)\n",
    "\n",
    "P_embedding = Flatten()(P_embedding)\n",
    "Q_embedding = Flatten()(Q_embedding)\n",
    "user_bias = Flatten()(user_bias)\n",
    "item_bias = Flatten()(item_bias)\n",
    "\n",
    "R = Concatenate()([P_embedding, Q_embedding, user_bias, item_bias])\n",
    "\n",
    "R = Dense(2048)(R)\n",
    "R = Activation('linear')(R)\n",
    "\n",
    "R = Dense(256)(R)\n",
    "R = Activation('linear')(R)\n",
    "\n",
    "R = Dense(1)(R)\n",
    "\n",
    "model = Model(inputs=[user, item], outputs = R)\n",
    "\n",
    "model.compile(\n",
    "    loss = RMSE,\n",
    "    optimizer = SGD(),\n",
    "    metrics=[RMSE]\n",
    ")\n",
    "\n",
    "model.summary()"
   ],
   "metadata": {
    "collapsed": false
   }
  },
  {
   "cell_type": "code",
   "execution_count": 6,
   "outputs": [
    {
     "name": "stdout",
     "output_type": "stream",
     "text": [
      "Epoch 1/65\n"
     ]
    },
    {
     "name": "stderr",
     "output_type": "stream",
     "text": [
      "2023-04-03 21:40:09.261854: W tensorflow/core/platform/profile_utils/cpu_utils.cc:128] Failed to get CPU frequency: 0 Hz\n",
      "2023-04-03 21:40:09.692994: I tensorflow/core/grappler/optimizers/custom_graph_optimizer_registry.cc:113] Plugin optimizer for device_type GPU is enabled.\n"
     ]
    },
    {
     "name": "stdout",
     "output_type": "stream",
     "text": [
      "157/157 [==============================] - ETA: 0s - loss: 5.3956 - RMSE: 1.1285"
     ]
    },
    {
     "name": "stderr",
     "output_type": "stream",
     "text": [
      "2023-04-03 21:40:12.976521: I tensorflow/core/grappler/optimizers/custom_graph_optimizer_registry.cc:113] Plugin optimizer for device_type GPU is enabled.\n"
     ]
    },
    {
     "name": "stdout",
     "output_type": "stream",
     "text": [
      "157/157 [==============================] - 4s 22ms/step - loss: 5.3956 - RMSE: 1.1285 - val_loss: 5.2486 - val_RMSE: 1.1150\n",
      "Epoch 2/65\n",
      "157/157 [==============================] - 3s 22ms/step - loss: 5.1338 - RMSE: 1.1271 - val_loss: 4.9953 - val_RMSE: 1.1131\n",
      "Epoch 3/65\n",
      "157/157 [==============================] - 3s 21ms/step - loss: 4.8881 - RMSE: 1.1249 - val_loss: 4.7574 - val_RMSE: 1.1114\n",
      "Epoch 4/65\n",
      "157/157 [==============================] - 3s 20ms/step - loss: 4.6574 - RMSE: 1.1230 - val_loss: 4.5340 - val_RMSE: 1.1098\n",
      "Epoch 5/65\n",
      "157/157 [==============================] - 3s 18ms/step - loss: 4.4407 - RMSE: 1.1214 - val_loss: 4.3241 - val_RMSE: 1.1081\n",
      "Epoch 6/65\n",
      "157/157 [==============================] - 3s 18ms/step - loss: 4.2370 - RMSE: 1.1197 - val_loss: 4.1271 - val_RMSE: 1.1066\n",
      "Epoch 7/65\n",
      "157/157 [==============================] - 3s 17ms/step - loss: 4.0457 - RMSE: 1.1176 - val_loss: 3.9415 - val_RMSE: 1.1046\n",
      "Epoch 8/65\n",
      "157/157 [==============================] - 3s 18ms/step - loss: 3.8657 - RMSE: 1.1154 - val_loss: 3.7672 - val_RMSE: 1.1025\n",
      "Epoch 9/65\n",
      "157/157 [==============================] - 3s 18ms/step - loss: 3.6964 - RMSE: 1.1134 - val_loss: 3.6032 - val_RMSE: 1.1002\n",
      "Epoch 10/65\n",
      "157/157 [==============================] - 3s 18ms/step - loss: 3.5370 - RMSE: 1.1107 - val_loss: 3.4487 - val_RMSE: 1.0976\n",
      "Epoch 11/65\n",
      "157/157 [==============================] - 3s 18ms/step - loss: 3.3870 - RMSE: 1.1080 - val_loss: 3.3036 - val_RMSE: 1.0950\n",
      "Epoch 12/65\n",
      "157/157 [==============================] - 3s 18ms/step - loss: 3.2455 - RMSE: 1.1044 - val_loss: 3.1660 - val_RMSE: 1.0911\n",
      "Epoch 13/65\n",
      "157/157 [==============================] - 3s 18ms/step - loss: 3.1120 - RMSE: 1.1006 - val_loss: 3.0365 - val_RMSE: 1.0870\n",
      "Epoch 14/65\n",
      "157/157 [==============================] - 3s 18ms/step - loss: 2.9858 - RMSE: 1.0962 - val_loss: 2.9141 - val_RMSE: 1.0823\n",
      "Epoch 15/65\n",
      "157/157 [==============================] - 3s 18ms/step - loss: 2.8663 - RMSE: 1.0910 - val_loss: 2.7983 - val_RMSE: 1.0769\n",
      "Epoch 16/65\n",
      "157/157 [==============================] - 3s 18ms/step - loss: 2.7534 - RMSE: 1.0851 - val_loss: 2.6884 - val_RMSE: 1.0706\n",
      "Epoch 17/65\n",
      "157/157 [==============================] - 3s 18ms/step - loss: 2.6462 - RMSE: 1.0785 - val_loss: 2.5843 - val_RMSE: 1.0636\n",
      "Epoch 18/65\n",
      "157/157 [==============================] - 3s 18ms/step - loss: 2.5441 - RMSE: 1.0699 - val_loss: 2.4851 - val_RMSE: 1.0554\n",
      "Epoch 19/65\n",
      "157/157 [==============================] - 3s 18ms/step - loss: 2.4472 - RMSE: 1.0615 - val_loss: 2.3910 - val_RMSE: 1.0466\n",
      "Epoch 20/65\n",
      "157/157 [==============================] - 3s 18ms/step - loss: 2.3550 - RMSE: 1.0519 - val_loss: 2.3020 - val_RMSE: 1.0376\n",
      "Epoch 21/65\n",
      "157/157 [==============================] - 3s 18ms/step - loss: 2.2674 - RMSE: 1.0423 - val_loss: 2.2169 - val_RMSE: 1.0275\n",
      "Epoch 22/65\n",
      "157/157 [==============================] - 3s 18ms/step - loss: 2.1844 - RMSE: 1.0314 - val_loss: 2.1366 - val_RMSE: 1.0177\n",
      "Epoch 23/65\n",
      "157/157 [==============================] - 3s 22ms/step - loss: 2.1060 - RMSE: 1.0215 - val_loss: 2.0611 - val_RMSE: 1.0083\n",
      "Epoch 24/65\n",
      "157/157 [==============================] - 3s 20ms/step - loss: 2.0320 - RMSE: 1.0113 - val_loss: 1.9900 - val_RMSE: 0.9993\n",
      "Epoch 25/65\n",
      "157/157 [==============================] - 3s 22ms/step - loss: 1.9626 - RMSE: 1.0021 - val_loss: 1.9229 - val_RMSE: 0.9906\n",
      "Epoch 26/65\n",
      "157/157 [==============================] - 4s 23ms/step - loss: 1.8972 - RMSE: 0.9937 - val_loss: 1.8607 - val_RMSE: 0.9833\n",
      "Epoch 27/65\n",
      "157/157 [==============================] - 3s 19ms/step - loss: 1.8362 - RMSE: 0.9864 - val_loss: 1.8036 - val_RMSE: 0.9777\n",
      "Epoch 28/65\n",
      "157/157 [==============================] - 3s 19ms/step - loss: 1.7791 - RMSE: 0.9790 - val_loss: 1.7475 - val_RMSE: 0.9701\n",
      "Epoch 29/65\n",
      "157/157 [==============================] - 3s 20ms/step - loss: 1.7258 - RMSE: 0.9726 - val_loss: 1.6968 - val_RMSE: 0.9651\n",
      "Epoch 30/65\n",
      "157/157 [==============================] - 4s 25ms/step - loss: 1.6759 - RMSE: 0.9672 - val_loss: 1.6495 - val_RMSE: 0.9607\n",
      "Epoch 31/65\n",
      "157/157 [==============================] - 4s 25ms/step - loss: 1.6294 - RMSE: 0.9623 - val_loss: 1.6047 - val_RMSE: 0.9563\n",
      "Epoch 32/65\n",
      "157/157 [==============================] - 5s 31ms/step - loss: 1.5856 - RMSE: 0.9576 - val_loss: 1.5650 - val_RMSE: 0.9544\n",
      "Epoch 33/65\n",
      "157/157 [==============================] - 4s 24ms/step - loss: 1.5449 - RMSE: 0.9532 - val_loss: 1.5242 - val_RMSE: 0.9494\n",
      "Epoch 34/65\n",
      "157/157 [==============================] - 4s 23ms/step - loss: 1.5067 - RMSE: 0.9507 - val_loss: 1.4884 - val_RMSE: 0.9471\n",
      "Epoch 35/65\n",
      "157/157 [==============================] - 3s 19ms/step - loss: 1.4709 - RMSE: 0.9467 - val_loss: 1.4543 - val_RMSE: 0.9444\n",
      "Epoch 36/65\n",
      "157/157 [==============================] - 3s 18ms/step - loss: 1.4376 - RMSE: 0.9449 - val_loss: 1.4228 - val_RMSE: 0.9425\n",
      "Epoch 37/65\n",
      "157/157 [==============================] - 3s 18ms/step - loss: 1.4063 - RMSE: 0.9423 - val_loss: 1.3928 - val_RMSE: 0.9403\n",
      "Epoch 38/65\n",
      "157/157 [==============================] - 3s 18ms/step - loss: 1.3768 - RMSE: 0.9394 - val_loss: 1.3661 - val_RMSE: 0.9398\n",
      "Epoch 39/65\n",
      "157/157 [==============================] - 3s 19ms/step - loss: 1.3494 - RMSE: 0.9375 - val_loss: 1.3392 - val_RMSE: 0.9375\n",
      "Epoch 40/65\n",
      "157/157 [==============================] - 3s 20ms/step - loss: 1.3236 - RMSE: 0.9360 - val_loss: 1.3144 - val_RMSE: 0.9358\n",
      "Epoch 41/65\n",
      "157/157 [==============================] - 3s 18ms/step - loss: 1.2996 - RMSE: 0.9351 - val_loss: 1.2921 - val_RMSE: 0.9353\n",
      "Epoch 42/65\n",
      "157/157 [==============================] - 3s 17ms/step - loss: 1.2770 - RMSE: 0.9327 - val_loss: 1.2713 - val_RMSE: 0.9349\n",
      "Epoch 43/65\n",
      "157/157 [==============================] - 3s 17ms/step - loss: 1.2561 - RMSE: 0.9316 - val_loss: 1.2515 - val_RMSE: 0.9342\n",
      "Epoch 44/65\n",
      "157/157 [==============================] - 3s 18ms/step - loss: 1.2357 - RMSE: 0.9300 - val_loss: 1.2323 - val_RMSE: 0.9332\n",
      "Epoch 45/65\n",
      "157/157 [==============================] - 3s 17ms/step - loss: 1.2174 - RMSE: 0.9299 - val_loss: 1.2136 - val_RMSE: 0.9315\n",
      "Epoch 46/65\n",
      "157/157 [==============================] - 3s 17ms/step - loss: 1.1999 - RMSE: 0.9281 - val_loss: 1.1976 - val_RMSE: 0.9314\n",
      "Epoch 47/65\n",
      "157/157 [==============================] - 3s 18ms/step - loss: 1.1836 - RMSE: 0.9276 - val_loss: 1.1861 - val_RMSE: 0.9349\n",
      "Epoch 48/65\n",
      "157/157 [==============================] - 3s 21ms/step - loss: 1.1685 - RMSE: 0.9268 - val_loss: 1.1689 - val_RMSE: 0.9319\n",
      "Epoch 49/65\n",
      "157/157 [==============================] - 3s 18ms/step - loss: 1.1541 - RMSE: 0.9264 - val_loss: 1.1535 - val_RMSE: 0.9298\n",
      "Epoch 50/65\n",
      "157/157 [==============================] - 3s 17ms/step - loss: 1.1409 - RMSE: 0.9265 - val_loss: 1.1409 - val_RMSE: 0.9296\n",
      "Epoch 51/65\n",
      "157/157 [==============================] - 3s 18ms/step - loss: 1.1279 - RMSE: 0.9255 - val_loss: 1.1343 - val_RMSE: 0.9347\n",
      "Epoch 52/65\n",
      "157/157 [==============================] - 3s 19ms/step - loss: 1.1164 - RMSE: 0.9253 - val_loss: 1.1175 - val_RMSE: 0.9288\n",
      "Epoch 53/65\n",
      "157/157 [==============================] - 3s 18ms/step - loss: 1.1050 - RMSE: 0.9249 - val_loss: 1.1074 - val_RMSE: 0.9292\n",
      "Epoch 54/65\n",
      "157/157 [==============================] - 3s 18ms/step - loss: 1.0946 - RMSE: 0.9242 - val_loss: 1.1057 - val_RMSE: 0.9372\n",
      "Epoch 55/65\n",
      "157/157 [==============================] - 3s 17ms/step - loss: 1.0850 - RMSE: 0.9234 - val_loss: 1.0881 - val_RMSE: 0.9287\n",
      "Epoch 56/65\n",
      "157/157 [==============================] - 3s 17ms/step - loss: 1.0757 - RMSE: 0.9239 - val_loss: 1.0802 - val_RMSE: 0.9295\n",
      "Epoch 57/65\n",
      "157/157 [==============================] - 3s 17ms/step - loss: 1.0670 - RMSE: 0.9240 - val_loss: 1.0809 - val_RMSE: 0.9381\n",
      "Epoch 58/65\n",
      "157/157 [==============================] - 3s 17ms/step - loss: 1.0589 - RMSE: 0.9236 - val_loss: 1.0631 - val_RMSE: 0.9281\n",
      "Epoch 59/65\n",
      "157/157 [==============================] - 3s 17ms/step - loss: 1.0514 - RMSE: 0.9231 - val_loss: 1.0562 - val_RMSE: 0.9283\n",
      "Epoch 60/65\n",
      "157/157 [==============================] - 4s 23ms/step - loss: 1.0440 - RMSE: 0.9225 - val_loss: 1.0505 - val_RMSE: 0.9293\n",
      "Epoch 61/65\n",
      "157/157 [==============================] - 4s 24ms/step - loss: 1.0375 - RMSE: 0.9234 - val_loss: 1.0464 - val_RMSE: 0.9316\n",
      "Epoch 62/65\n",
      "157/157 [==============================] - 3s 22ms/step - loss: 1.0312 - RMSE: 0.9226 - val_loss: 1.0362 - val_RMSE: 0.9273\n",
      "Epoch 63/65\n",
      "157/157 [==============================] - 3s 20ms/step - loss: 1.0256 - RMSE: 0.9229 - val_loss: 1.0318 - val_RMSE: 0.9286\n",
      "Epoch 64/65\n",
      "157/157 [==============================] - 4s 23ms/step - loss: 1.0199 - RMSE: 0.9221 - val_loss: 1.0256 - val_RMSE: 0.9278\n",
      "Epoch 65/65\n",
      "157/157 [==============================] - 3s 21ms/step - loss: 1.0145 - RMSE: 0.9222 - val_loss: 1.0204 - val_RMSE: 0.9275\n"
     ]
    }
   ],
   "source": [
    "# model fitting\n",
    "train_user_ids = ratings_train.user_id.values\n",
    "train_movie_ids = ratings_train.movie_id.values\n",
    "train_ratings = ratings_train.rating.values\n",
    "\n",
    "test_user_ids = ratings_test.user_id.values\n",
    "test_movie_ids = ratings_test.movie_id.values\n",
    "test_ratings = ratings_test.rating.values\n",
    "\n",
    "result = model.fit(\n",
    "    x = [train_user_ids, train_movie_ids],\n",
    "    y = train_ratings - mu,\n",
    "    epochs = 65,\n",
    "    batch_size = 512,\n",
    "    validation_data = (\n",
    "        [test_user_ids, test_movie_ids],\n",
    "        test_ratings - mu\n",
    "    )\n",
    ")"
   ],
   "metadata": {
    "collapsed": false
   }
  },
  {
   "cell_type": "code",
   "execution_count": 7,
   "outputs": [
    {
     "data": {
      "text/plain": "<Figure size 640x480 with 1 Axes>",
      "image/png": "[encoded data removed]"
     },
     "metadata": {},
     "output_type": "display_data"
    }
   ],
   "source": [
    "import matplotlib.pyplot as plt\n",
    "plt.plot(result.history['RMSE'], label = \"Train RMSE\")\n",
    "plt.plot(result.history['val_RMSE'], label = \"Test RMSE\")\n",
    "plt.legend()\n",
    "plt.show()"
   ],
   "metadata": {
    "collapsed": false
   }
  },
  {
   "cell_type": "markdown",
   "source": [
    "### 6.4 딥러닝 모델에 변수 추가하기"
   ],
   "metadata": {
    "collapsed": false
   }
  },
  {
   "cell_type": "code",
   "execution_count": 17,
   "outputs": [],
   "source": [
    "# 사용자 데이터 가져오기\n",
    "u_user_src = os.path.join(base_src, 'u.user')\n",
    "u_cols = ['user_id', 'age', 'sex', 'occupation', 'zip_code']\n",
    "users = pd.read_csv(u_user_src,\n",
    "                    sep = \"|\",\n",
    "                    names = u_cols,\n",
    "                    encoding = 'latin-1')\n",
    "\n",
    "# 사용자 ID와 직업(occupation)만 남기기\n",
    "users = users[['user_id', 'occupation']]\n",
    "\n",
    "# 직업에 index를 붙여주는 코드\n",
    "occupation = {}\n",
    "def convert_occ(x):\n",
    "    if x in occupation:\n",
    "        return occupation[x]\n",
    "    else:\n",
    "        occupation[x] = len(occupation)\n",
    "        return occupation[x]\n",
    "\n",
    "users['occupation'] = users['occupation'].apply(convert_occ)\n",
    "\n",
    "L = len(occupation)\n",
    "\n",
    "train_occ = pd.merge(ratings_train, users, on='user_id')['occupation']\n",
    "test_occ = pd.merge(ratings_test, users, on='user_id')['occupation']"
   ],
   "metadata": {
    "collapsed": false
   }
  },
  {
   "cell_type": "code",
   "execution_count": 9,
   "outputs": [
    {
     "data": {
      "text/plain": "0        16\n1        16\n2        16\n3        16\n4        16\n         ..\n19995    17\n19996    15\n19997    15\n19998    11\n19999    11\nName: occupation, Length: 20000, dtype: int64"
     },
     "execution_count": 9,
     "metadata": {},
     "output_type": "execute_result"
    }
   ],
   "source": [
    "train_occ"
   ],
   "metadata": {
    "collapsed": false
   }
  },
  {
   "cell_type": "code",
   "execution_count": 18,
   "outputs": [
    {
     "name": "stdout",
     "output_type": "stream",
     "text": [
      "Model: \"model_4\"\n",
      "__________________________________________________________________________________________________\n",
      " Layer (type)                   Output Shape         Param #     Connected to                     \n",
      "==================================================================================================\n",
      " input_16 (InputLayer)          [(None, 1)]          0           []                               \n",
      "                                                                                                  \n",
      " input_17 (InputLayer)          [(None, 1)]          0           []                               \n",
      "                                                                                                  \n",
      " input_18 (InputLayer)          [(None, 1)]          0           []                               \n",
      "                                                                                                  \n",
      " embedding_19 (Embedding)       (None, 1, 200)       336600      ['input_16[0][0]']               \n",
      "                                                                                                  \n",
      " embedding_20 (Embedding)       (None, 1, 200)       188800      ['input_17[0][0]']               \n",
      "                                                                                                  \n",
      " embedding_21 (Embedding)       (None, 1, 1)         1683        ['input_16[0][0]']               \n",
      "                                                                                                  \n",
      " embedding_22 (Embedding)       (None, 1, 1)         944         ['input_17[0][0]']               \n",
      "                                                                                                  \n",
      " embedding_23 (Embedding)       (None, 1, 3)         63          ['input_18[0][0]']               \n",
      "                                                                                                  \n",
      " flatten_19 (Flatten)           (None, 200)          0           ['embedding_19[0][0]']           \n",
      "                                                                                                  \n",
      " flatten_20 (Flatten)           (None, 200)          0           ['embedding_20[0][0]']           \n",
      "                                                                                                  \n",
      " flatten_21 (Flatten)           (None, 1)            0           ['embedding_21[0][0]']           \n",
      "                                                                                                  \n",
      " flatten_22 (Flatten)           (None, 1)            0           ['embedding_22[0][0]']           \n",
      "                                                                                                  \n",
      " flatten_23 (Flatten)           (None, 3)            0           ['embedding_23[0][0]']           \n",
      "                                                                                                  \n",
      " concatenate_4 (Concatenate)    (None, 405)          0           ['flatten_19[0][0]',             \n",
      "                                                                  'flatten_20[0][0]',             \n",
      "                                                                  'flatten_21[0][0]',             \n",
      "                                                                  'flatten_22[0][0]',             \n",
      "                                                                  'flatten_23[0][0]']             \n",
      "                                                                                                  \n",
      " dense_12 (Dense)               (None, 2048)         831488      ['concatenate_4[0][0]']          \n",
      "                                                                                                  \n",
      " activation_8 (Activation)      (None, 2048)         0           ['dense_12[0][0]']               \n",
      "                                                                                                  \n",
      " dense_13 (Dense)               (None, 256)          524544      ['activation_8[0][0]']           \n",
      "                                                                                                  \n",
      " activation_9 (Activation)      (None, 256)          0           ['dense_13[0][0]']               \n",
      "                                                                                                  \n",
      " dense_14 (Dense)               (None, 1)            257         ['activation_9[0][0]']           \n",
      "                                                                                                  \n",
      "==================================================================================================\n",
      "Total params: 1,884,379\n",
      "Trainable params: 1,884,379\n",
      "Non-trainable params: 0\n",
      "__________________________________________________________________________________________________\n"
     ]
    }
   ],
   "source": [
    "K = 200\n",
    "mu = ratings_train.rating.mean()\n",
    "\n",
    "N = ratings.user_id.max() + 1\n",
    "M = ratings.movie_id.max() + 1\n",
    "\n",
    "user = Input(shape = (1,))\n",
    "item = Input(shape = (1,))\n",
    "\n",
    "P_embedding = Embedding(M, K, embeddings_regularizer=l2())(user)\n",
    "Q_embedding = Embedding(N, K, embeddings_regularizer=l2())(item)\n",
    "\n",
    "user_bias = Embedding(M,1, embeddings_regularizer=l2())(user)\n",
    "item_bias = Embedding(N,1, embeddings_regularizer=l2())(item)\n",
    "\n",
    "P_embedding = Flatten()(P_embedding)\n",
    "Q_embedding = Flatten()(Q_embedding)\n",
    "\n",
    "user_bias = Flatten()(user_bias)\n",
    "item_bias = Flatten()(item_bias)\n",
    "\n",
    "occ = Input(shape=(1,))\n",
    "OCC_embedding = Embedding(L, 3, embeddings_regularizer=l2())(occ)\n",
    "OCC_layer = Flatten()(OCC_embedding)\n",
    "\n",
    "R = Concatenate()([P_embedding, Q_embedding, user_bias, item_bias, OCC_layer])\n",
    "\n",
    "R = Dense(2048)(R)\n",
    "R = Activation('linear')(R)\n",
    "R = Dense(256)(R)\n",
    "R = Activation('linear')(R)\n",
    "R = Dense(1)(R)\n",
    "\n",
    "model = Model(inputs=[user, item, occ], outputs=R)\n",
    "\n",
    "model.compile(\n",
    "    loss = RMSE,\n",
    "    optimizer = SGD(),\n",
    "    metrics=[RMSE]\n",
    ")\n",
    "\n",
    "model.summary()"
   ],
   "metadata": {
    "collapsed": false
   }
  },
  {
   "cell_type": "code",
   "execution_count": 19,
   "outputs": [
    {
     "name": "stdout",
     "output_type": "stream",
     "text": [
      "Epoch 1/65\n"
     ]
    },
    {
     "name": "stderr",
     "output_type": "stream",
     "text": [
      "2023-04-03 22:03:47.681526: I tensorflow/core/grappler/optimizers/custom_graph_optimizer_registry.cc:113] Plugin optimizer for device_type GPU is enabled.\n"
     ]
    },
    {
     "name": "stdout",
     "output_type": "stream",
     "text": [
      "157/157 [==============================] - ETA: 0s - loss: 5.3928 - RMSE: 1.1278"
     ]
    },
    {
     "name": "stderr",
     "output_type": "stream",
     "text": [
      "2023-04-03 22:03:51.250446: I tensorflow/core/grappler/optimizers/custom_graph_optimizer_registry.cc:113] Plugin optimizer for device_type GPU is enabled.\n"
     ]
    },
    {
     "name": "stdout",
     "output_type": "stream",
     "text": [
      "157/157 [==============================] - 5s 24ms/step - loss: 5.3928 - RMSE: 1.1278 - val_loss: 5.2464 - val_RMSE: 1.1144\n",
      "Epoch 2/65\n",
      "157/157 [==============================] - 4s 23ms/step - loss: 5.1313 - RMSE: 1.1255 - val_loss: 4.9932 - val_RMSE: 1.1126\n",
      "Epoch 3/65\n",
      "157/157 [==============================] - 4s 23ms/step - loss: 4.8858 - RMSE: 1.1240 - val_loss: 4.7555 - val_RMSE: 1.1110\n",
      "Epoch 4/65\n",
      "157/157 [==============================] - 4s 22ms/step - loss: 4.6552 - RMSE: 1.1220 - val_loss: 4.5322 - val_RMSE: 1.1093\n",
      "Epoch 5/65\n",
      "157/157 [==============================] - 4s 24ms/step - loss: 4.4385 - RMSE: 1.1206 - val_loss: 4.3224 - val_RMSE: 1.1076\n",
      "Epoch 6/65\n",
      "157/157 [==============================] - 4s 23ms/step - loss: 4.2349 - RMSE: 1.1185 - val_loss: 4.1253 - val_RMSE: 1.1060\n",
      "Epoch 7/65\n",
      "157/157 [==============================] - 3s 19ms/step - loss: 4.0436 - RMSE: 1.1168 - val_loss: 3.9398 - val_RMSE: 1.1039\n",
      "Epoch 8/65\n",
      "157/157 [==============================] - 3s 19ms/step - loss: 3.8637 - RMSE: 1.1146 - val_loss: 3.7655 - val_RMSE: 1.1018\n",
      "Epoch 9/65\n",
      "157/157 [==============================] - 3s 19ms/step - loss: 3.6943 - RMSE: 1.1121 - val_loss: 3.6014 - val_RMSE: 1.0993\n",
      "Epoch 10/65\n",
      "157/157 [==============================] - 3s 18ms/step - loss: 3.5349 - RMSE: 1.1092 - val_loss: 3.4469 - val_RMSE: 1.0966\n",
      "Epoch 11/65\n",
      "157/157 [==============================] - 3s 18ms/step - loss: 3.3848 - RMSE: 1.1067 - val_loss: 3.3014 - val_RMSE: 1.0935\n",
      "Epoch 12/65\n",
      "157/157 [==============================] - 3s 21ms/step - loss: 3.2431 - RMSE: 1.1024 - val_loss: 3.1641 - val_RMSE: 1.0898\n",
      "Epoch 13/65\n",
      "157/157 [==============================] - 3s 18ms/step - loss: 3.1095 - RMSE: 1.0988 - val_loss: 3.0345 - val_RMSE: 1.0856\n",
      "Epoch 14/65\n",
      "157/157 [==============================] - 3s 18ms/step - loss: 2.9832 - RMSE: 1.0941 - val_loss: 2.9125 - val_RMSE: 1.0812\n",
      "Epoch 15/65\n",
      "157/157 [==============================] - 3s 19ms/step - loss: 2.8637 - RMSE: 1.0889 - val_loss: 2.7961 - val_RMSE: 1.0752\n",
      "Epoch 16/65\n",
      "157/157 [==============================] - 3s 19ms/step - loss: 2.7507 - RMSE: 1.0829 - val_loss: 2.6863 - val_RMSE: 1.0689\n",
      "Epoch 17/65\n",
      "157/157 [==============================] - 3s 18ms/step - loss: 2.6433 - RMSE: 1.0754 - val_loss: 2.5822 - val_RMSE: 1.0617\n",
      "Epoch 18/65\n",
      "157/157 [==============================] - 3s 18ms/step - loss: 2.5414 - RMSE: 1.0677 - val_loss: 2.4835 - val_RMSE: 1.0541\n",
      "Epoch 19/65\n",
      "157/157 [==============================] - 3s 18ms/step - loss: 2.4448 - RMSE: 1.0593 - val_loss: 2.3900 - val_RMSE: 1.0458\n",
      "Epoch 20/65\n",
      "157/157 [==============================] - 3s 18ms/step - loss: 2.3531 - RMSE: 1.0504 - val_loss: 2.3007 - val_RMSE: 1.0366\n",
      "Epoch 21/65\n",
      "157/157 [==============================] - 3s 18ms/step - loss: 2.2659 - RMSE: 1.0410 - val_loss: 2.2168 - val_RMSE: 1.0277\n",
      "Epoch 22/65\n",
      "157/157 [==============================] - 4s 26ms/step - loss: 2.1837 - RMSE: 1.0317 - val_loss: 2.1371 - val_RMSE: 1.0184\n",
      "Epoch 23/65\n",
      "157/157 [==============================] - 4s 24ms/step - loss: 2.1058 - RMSE: 1.0217 - val_loss: 2.0626 - val_RMSE: 1.0101\n",
      "Epoch 24/65\n",
      "157/157 [==============================] - 3s 21ms/step - loss: 2.0326 - RMSE: 1.0126 - val_loss: 1.9916 - val_RMSE: 1.0012\n",
      "Epoch 25/65\n",
      "157/157 [==============================] - 3s 20ms/step - loss: 1.9637 - RMSE: 1.0044 - val_loss: 1.9258 - val_RMSE: 0.9939\n",
      "Epoch 26/65\n",
      "157/157 [==============================] - 3s 20ms/step - loss: 1.8991 - RMSE: 0.9965 - val_loss: 1.8643 - val_RMSE: 0.9872\n",
      "Epoch 27/65\n",
      "157/157 [==============================] - 3s 20ms/step - loss: 1.8387 - RMSE: 0.9887 - val_loss: 1.8057 - val_RMSE: 0.9802\n",
      "Epoch 28/65\n",
      "157/157 [==============================] - 3s 21ms/step - loss: 1.7821 - RMSE: 0.9825 - val_loss: 1.7518 - val_RMSE: 0.9749\n",
      "Epoch 29/65\n",
      "157/157 [==============================] - 3s 22ms/step - loss: 1.7295 - RMSE: 0.9773 - val_loss: 1.7013 - val_RMSE: 0.9700\n",
      "Epoch 30/65\n",
      "157/157 [==============================] - 3s 21ms/step - loss: 1.6802 - RMSE: 0.9722 - val_loss: 1.6547 - val_RMSE: 0.9664\n",
      "Epoch 31/65\n",
      "157/157 [==============================] - 3s 19ms/step - loss: 1.6341 - RMSE: 0.9672 - val_loss: 1.6106 - val_RMSE: 0.9627\n",
      "Epoch 32/65\n",
      "157/157 [==============================] - 4s 23ms/step - loss: 1.5910 - RMSE: 0.9639 - val_loss: 1.5695 - val_RMSE: 0.9596\n",
      "Epoch 33/65\n",
      "157/157 [==============================] - 4s 26ms/step - loss: 1.5508 - RMSE: 0.9610 - val_loss: 1.5303 - val_RMSE: 0.9561\n",
      "Epoch 34/65\n",
      "157/157 [==============================] - 5s 29ms/step - loss: 1.5131 - RMSE: 0.9574 - val_loss: 1.4943 - val_RMSE: 0.9536\n",
      "Epoch 35/65\n",
      "157/157 [==============================] - 3s 21ms/step - loss: 1.4778 - RMSE: 0.9548 - val_loss: 1.4612 - val_RMSE: 0.9521\n",
      "Epoch 36/65\n",
      "157/157 [==============================] - 3s 18ms/step - loss: 1.4447 - RMSE: 0.9522 - val_loss: 1.4294 - val_RMSE: 0.9500\n",
      "Epoch 37/65\n",
      "157/157 [==============================] - 3s 19ms/step - loss: 1.4138 - RMSE: 0.9507 - val_loss: 1.3996 - val_RMSE: 0.9481\n",
      "Epoch 38/65\n",
      "157/157 [==============================] - 3s 19ms/step - loss: 1.3849 - RMSE: 0.9486 - val_loss: 1.3729 - val_RMSE: 0.9476\n",
      "Epoch 39/65\n",
      "157/157 [==============================] - 3s 21ms/step - loss: 1.3580 - RMSE: 0.9467 - val_loss: 1.3461 - val_RMSE: 0.9454\n",
      "Epoch 40/65\n",
      "157/157 [==============================] - 3s 18ms/step - loss: 1.3325 - RMSE: 0.9453 - val_loss: 1.3220 - val_RMSE: 0.9445\n",
      "Epoch 41/65\n",
      "157/157 [==============================] - 3s 21ms/step - loss: 1.3087 - RMSE: 0.9441 - val_loss: 1.3006 - val_RMSE: 0.9449\n",
      "Epoch 42/65\n",
      "157/157 [==============================] - 3s 18ms/step - loss: 1.2864 - RMSE: 0.9431 - val_loss: 1.2780 - val_RMSE: 0.9428\n",
      "Epoch 43/65\n",
      "157/157 [==============================] - 3s 18ms/step - loss: 1.2656 - RMSE: 0.9423 - val_loss: 1.2580 - val_RMSE: 0.9419\n",
      "Epoch 44/65\n",
      "157/157 [==============================] - 3s 18ms/step - loss: 1.2460 - RMSE: 0.9417 - val_loss: 1.2396 - val_RMSE: 0.9417\n",
      "Epoch 45/65\n",
      "157/157 [==============================] - 3s 20ms/step - loss: 1.2276 - RMSE: 0.9413 - val_loss: 1.2229 - val_RMSE: 0.9421\n",
      "Epoch 46/65\n",
      "157/157 [==============================] - 3s 19ms/step - loss: 1.2103 - RMSE: 0.9396 - val_loss: 1.2056 - val_RMSE: 0.9408\n",
      "Epoch 47/65\n",
      "157/157 [==============================] - 3s 19ms/step - loss: 1.1944 - RMSE: 0.9394 - val_loss: 1.1898 - val_RMSE: 0.9400\n",
      "Epoch 48/65\n",
      "157/157 [==============================] - 3s 19ms/step - loss: 1.1790 - RMSE: 0.9387 - val_loss: 1.1754 - val_RMSE: 0.9396\n",
      "Epoch 49/65\n",
      "157/157 [==============================] - 3s 19ms/step - loss: 1.1649 - RMSE: 0.9384 - val_loss: 1.1659 - val_RMSE: 0.9436\n",
      "Epoch 50/65\n",
      "157/157 [==============================] - 3s 19ms/step - loss: 1.1517 - RMSE: 0.9379 - val_loss: 1.1491 - val_RMSE: 0.9391\n",
      "Epoch 51/65\n",
      "157/157 [==============================] - 3s 19ms/step - loss: 1.1393 - RMSE: 0.9382 - val_loss: 1.1383 - val_RMSE: 0.9401\n",
      "Epoch 52/65\n",
      "157/157 [==============================] - 3s 19ms/step - loss: 1.1275 - RMSE: 0.9379 - val_loss: 1.1280 - val_RMSE: 0.9409\n",
      "Epoch 53/65\n",
      "157/157 [==============================] - 3s 19ms/step - loss: 1.1164 - RMSE: 0.9372 - val_loss: 1.1174 - val_RMSE: 0.9408\n",
      "Epoch 54/65\n",
      "157/157 [==============================] - 3s 19ms/step - loss: 1.1061 - RMSE: 0.9372 - val_loss: 1.1055 - val_RMSE: 0.9387\n",
      "Epoch 55/65\n",
      "157/157 [==============================] - 4s 22ms/step - loss: 1.0965 - RMSE: 0.9369 - val_loss: 1.0962 - val_RMSE: 0.9384\n",
      "Epoch 56/65\n",
      "157/157 [==============================] - 3s 20ms/step - loss: 1.0872 - RMSE: 0.9364 - val_loss: 1.0871 - val_RMSE: 0.9380\n",
      "Epoch 57/65\n",
      "157/157 [==============================] - 3s 19ms/step - loss: 1.0788 - RMSE: 0.9362 - val_loss: 1.0788 - val_RMSE: 0.9376\n",
      "Epoch 58/65\n",
      "157/157 [==============================] - 3s 19ms/step - loss: 1.0707 - RMSE: 0.9368 - val_loss: 1.0729 - val_RMSE: 0.9395\n",
      "Epoch 59/65\n",
      "157/157 [==============================] - 3s 19ms/step - loss: 1.0631 - RMSE: 0.9365 - val_loss: 1.0673 - val_RMSE: 0.9410\n",
      "Epoch 60/65\n",
      "157/157 [==============================] - 3s 22ms/step - loss: 1.0561 - RMSE: 0.9364 - val_loss: 1.0640 - val_RMSE: 0.9447\n",
      "Epoch 61/65\n",
      "157/157 [==============================] - 3s 19ms/step - loss: 1.0494 - RMSE: 0.9359 - val_loss: 1.0510 - val_RMSE: 0.9379\n",
      "Epoch 62/65\n",
      "157/157 [==============================] - 3s 19ms/step - loss: 1.0432 - RMSE: 0.9360 - val_loss: 1.0445 - val_RMSE: 0.9375\n",
      "Epoch 63/65\n",
      "157/157 [==============================] - 3s 19ms/step - loss: 1.0374 - RMSE: 0.9367 - val_loss: 1.0386 - val_RMSE: 0.9370\n",
      "Epoch 64/65\n",
      "157/157 [==============================] - 3s 19ms/step - loss: 1.0317 - RMSE: 0.9360 - val_loss: 1.0333 - val_RMSE: 0.9372\n",
      "Epoch 65/65\n",
      "157/157 [==============================] - 3s 19ms/step - loss: 1.0268 - RMSE: 0.9358 - val_loss: 1.0292 - val_RMSE: 0.9378\n"
     ]
    }
   ],
   "source": [
    "# model fitting\n",
    "train_user_ids = ratings_train.user_id.values\n",
    "train_movie_ids = ratings_train.movie_id.values\n",
    "train_ratings = ratings_train.rating.values\n",
    "train_occs = train_occ.values\n",
    "\n",
    "test_user_ids = ratings_test.user_id.values\n",
    "test_movie_ids = ratings_test.movie_id.values\n",
    "test_ratings = ratings_test.rating.values\n",
    "test_occs = test_occ.values\n",
    "\n",
    "result = model.fit(\n",
    "    x = [train_user_ids, train_movie_ids, train_occs],\n",
    "    y = train_ratings - mu,\n",
    "    epochs = 65,\n",
    "    batch_size = 512,\n",
    "    validation_data = (\n",
    "        [test_user_ids, test_movie_ids, test_occs],\n",
    "        test_ratings - mu\n",
    "    )\n",
    ")"
   ],
   "metadata": {
    "collapsed": false
   }
  },
  {
   "cell_type": "code",
   "execution_count": 20,
   "outputs": [
    {
     "data": {
      "text/plain": "<Figure size 640x480 with 1 Axes>",
      "image/png": "[encoded data removed]"
     },
     "metadata": {},
     "output_type": "display_data"
    }
   ],
   "source": [
    "import matplotlib.pyplot as plt\n",
    "plt.plot(result.history['RMSE'], label = \"Train RMSE\")\n",
    "plt.plot(result.history['val_RMSE'], label = \"Test RMSE\")\n",
    "plt.legend()\n",
    "plt.show()"
   ],
   "metadata": {
    "collapsed": false
   }
  },
  {
   "cell_type": "code",
   "execution_count": null,
   "outputs": [],
   "source": [],
   "metadata": {
    "collapsed": false
   }
  }
 ],
 "metadata": {
  "kernelspec": {
   "display_name": "Python 3",
   "language": "python",
   "name": "python3"
  },
  "language_info": {
   "codemirror_mode": {
    "name": "ipython",
    "version": 2
   },
   "file_extension": ".py",
   "mimetype": "text/x-python",
   "name": "python",
   "nbconvert_exporter": "python",
   "pygments_lexer": "ipython2",
   "version": "2.7.6"
  }
 },
 "nbformat": 4,
 "nbformat_minor": 0
}
