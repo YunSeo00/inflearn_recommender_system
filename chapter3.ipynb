{
 "cells": [
  {
   "cell_type": "code",
   "execution_count": 2,
   "metadata": {
    "collapsed": true
   },
   "outputs": [],
   "source": [
    "import os\n",
    "import pandas as pd\n",
    "from sklearn.model_selection import train_test_split\n",
    "import numpy as np"
   ]
  },
  {
   "cell_type": "code",
   "execution_count": 12,
   "outputs": [],
   "source": [
    "# 데이터 불러오기\n",
    "base_src = '../data'\n",
    "u_user_src = os.path.join(base_src, 'u.user')\n",
    "u_cols = ['user_id', 'age', 'sex', 'occupation', 'zip_code']\n",
    "users = pd.read_csv(u_user_src,\n",
    "                    sep = \"|\",\n",
    "                    names = u_cols,\n",
    "                    encoding = 'latin-1')\n",
    "users = users.set_index('user_id')\n",
    "\n",
    "i_item_src = os.path.join(base_src, 'u.item')\n",
    "i_cols = ['movie_id', 'title', 'release date', 'video release date',\n",
    "          'IMDB URL', 'unknown', 'Action', 'Adventure', 'Animation',\n",
    "          'Children\\'s', 'Comedy', 'Crime', 'Documentary', 'Drama', 'Fantasy',\n",
    "          'Film-Noir', 'Horror', 'Musical', 'Mystery', 'Romance', 'Sci-Fi', 'Thriller', 'War', 'Western']\n",
    "movies = pd.read_csv(i_item_src,\n",
    "                    sep = \"|\",\n",
    "                    names = i_cols,\n",
    "                    encoding = 'latin-1')\n",
    "movies = movies.set_index('movie_id')\n",
    "\n",
    "u_data_src = os.path.join(base_src, 'u.data')\n",
    "r_cols = ['user_id', 'movie_id', 'rating', 'timestamp']\n",
    "ratings = pd.read_csv(u_data_src,\n",
    "                    sep = \"\\t\",\n",
    "                    names = r_cols,\n",
    "                    encoding = 'latin-1')\n",
    "\n",
    "# ratings DataFrame에서 timestamp 제거\n",
    "ratings = ratings.drop('timestamp', axis = 1)\n",
    "\n",
    "# 정확도 (RMSE)를 계산하는 함수\n",
    "def RMSE(y_ture, y_pred):\n",
    "    return np.sqrt(np.mean((np.array(y_ture) - np.array(y_pred))**2))\n",
    "\n",
    "# 모델별 RMSE를 계산하는 함수\n",
    "def score(model):\n",
    "    id_pairs = zip(x_test['user_id'], x_test['movie_id'])\n",
    "    y_pred = np.array([model(user, movie) for (user, movie) in id_pairs])\n",
    "    y_true = np.array(x_test['rating'])\n",
    "    return RMSE(y_true, y_pred)\n",
    "\n",
    "# 데이터 셋 만들기\n",
    "x = ratings.copy()\n",
    "y = ratings['user_id']\n",
    "\n",
    "x_train, x_test, y_train, y_test = train_test_split(x, y,\n",
    "                                                    test_size = 0.25,\n",
    "                                                    stratify = y) # 계층화 추출\n",
    "ratings_matrix = x_train.pivot(index = \"user_id\", columns = \"movie_id\", values = \"rating\")\n",
    "\n"
   ],
   "metadata": {
    "collapsed": false
   }
  },
  {
   "cell_type": "code",
   "execution_count": 13,
   "outputs": [],
   "source": [
    "# 코사인 유사도 계산\n",
    "from sklearn.metrics.pairwise import cosine_similarity\n",
    "matrix_dummy = ratings_matrix.copy().fillna(0)\n",
    "user_similarity = cosine_similarity(matrix_dummy, matrix_dummy)\n",
    "user_similarity = pd.DataFrame(user_similarity,\n",
    "                               index = ratings_matrix.index,\n",
    "                               columns = ratings_matrix.index)"
   ],
   "metadata": {
    "collapsed": false
   }
  },
  {
   "cell_type": "code",
   "execution_count": 14,
   "outputs": [
    {
     "data": {
      "text/plain": "user_id       1         2         3         4         5         6         7    \\\nuser_id                                                                         \n1        1.000000  0.140663  0.039134  0.064815  0.281620  0.290780  0.307716   \n2        0.140663  1.000000  0.117788  0.196684  0.054211  0.196596  0.060608   \n3        0.039134  0.117788  1.000000  0.319002  0.000000  0.082856  0.045072   \n4        0.064815  0.196684  0.319002  1.000000  0.000000  0.049645  0.063456   \n5        0.281620  0.054211  0.000000  0.000000  1.000000  0.179655  0.245795   \n\nuser_id       8         9         10   ...       934       935       936  \\\nuser_id                                ...                                 \n1        0.282100  0.040946  0.254990  ...  0.273897  0.064947  0.215023   \n2        0.110063  0.101472  0.067412  ...  0.152855  0.204764  0.276731   \n3        0.054732  0.083413  0.080111  ...  0.023901  0.000000  0.073228   \n4        0.197152  0.133871  0.036842  ...  0.053703  0.049026  0.079774   \n5        0.150137  0.031561  0.104972  ...  0.234222  0.054612  0.081105   \n\nuser_id       937       938       939       940       941       942       943  \nuser_id                                                                        \n1        0.115342  0.146232  0.085477  0.254637  0.035533  0.138319  0.317781  \n2        0.476402  0.318135  0.174263  0.183083  0.071884  0.121517  0.114893  \n3        0.069932  0.089505  0.000000  0.104696  0.051704  0.158771  0.000000  \n4        0.265372  0.166956  0.000000  0.210735  0.206531  0.168160  0.045358  \n5        0.028153  0.135078  0.053117  0.159443  0.070183  0.101943  0.249954  \n\n[5 rows x 943 columns]",
      "text/html": "<div>\n<style scoped>\n    .dataframe tbody tr th:only-of-type {\n        vertical-align: middle;\n    }\n\n    .dataframe tbody tr th {\n        vertical-align: top;\n    }\n\n    .dataframe thead th {\n        text-align: right;\n    }\n</style>\n<table border=\"1\" class=\"dataframe\">\n  <thead>\n    <tr style=\"text-align: right;\">\n      <th>user_id</th>\n      <th>1</th>\n      <th>2</th>\n      <th>3</th>\n      <th>4</th>\n      <th>5</th>\n      <th>6</th>\n      <th>7</th>\n      <th>8</th>\n      <th>9</th>\n      <th>10</th>\n      <th>...</th>\n      <th>934</th>\n      <th>935</th>\n      <th>936</th>\n      <th>937</th>\n      <th>938</th>\n      <th>939</th>\n      <th>940</th>\n      <th>941</th>\n      <th>942</th>\n      <th>943</th>\n    </tr>\n    <tr>\n      <th>user_id</th>\n      <th></th>\n      <th></th>\n      <th></th>\n      <th></th>\n      <th></th>\n      <th></th>\n      <th></th>\n      <th></th>\n      <th></th>\n      <th></th>\n      <th></th>\n      <th></th>\n      <th></th>\n      <th></th>\n      <th></th>\n      <th></th>\n      <th></th>\n      <th></th>\n      <th></th>\n      <th></th>\n      <th></th>\n    </tr>\n  </thead>\n  <tbody>\n    <tr>\n      <th>1</th>\n      <td>1.000000</td>\n      <td>0.140663</td>\n      <td>0.039134</td>\n      <td>0.064815</td>\n      <td>0.281620</td>\n      <td>0.290780</td>\n      <td>0.307716</td>\n      <td>0.282100</td>\n      <td>0.040946</td>\n      <td>0.254990</td>\n      <td>...</td>\n      <td>0.273897</td>\n      <td>0.064947</td>\n      <td>0.215023</td>\n      <td>0.115342</td>\n      <td>0.146232</td>\n      <td>0.085477</td>\n      <td>0.254637</td>\n      <td>0.035533</td>\n      <td>0.138319</td>\n      <td>0.317781</td>\n    </tr>\n    <tr>\n      <th>2</th>\n      <td>0.140663</td>\n      <td>1.000000</td>\n      <td>0.117788</td>\n      <td>0.196684</td>\n      <td>0.054211</td>\n      <td>0.196596</td>\n      <td>0.060608</td>\n      <td>0.110063</td>\n      <td>0.101472</td>\n      <td>0.067412</td>\n      <td>...</td>\n      <td>0.152855</td>\n      <td>0.204764</td>\n      <td>0.276731</td>\n      <td>0.476402</td>\n      <td>0.318135</td>\n      <td>0.174263</td>\n      <td>0.183083</td>\n      <td>0.071884</td>\n      <td>0.121517</td>\n      <td>0.114893</td>\n    </tr>\n    <tr>\n      <th>3</th>\n      <td>0.039134</td>\n      <td>0.117788</td>\n      <td>1.000000</td>\n      <td>0.319002</td>\n      <td>0.000000</td>\n      <td>0.082856</td>\n      <td>0.045072</td>\n      <td>0.054732</td>\n      <td>0.083413</td>\n      <td>0.080111</td>\n      <td>...</td>\n      <td>0.023901</td>\n      <td>0.000000</td>\n      <td>0.073228</td>\n      <td>0.069932</td>\n      <td>0.089505</td>\n      <td>0.000000</td>\n      <td>0.104696</td>\n      <td>0.051704</td>\n      <td>0.158771</td>\n      <td>0.000000</td>\n    </tr>\n    <tr>\n      <th>4</th>\n      <td>0.064815</td>\n      <td>0.196684</td>\n      <td>0.319002</td>\n      <td>1.000000</td>\n      <td>0.000000</td>\n      <td>0.049645</td>\n      <td>0.063456</td>\n      <td>0.197152</td>\n      <td>0.133871</td>\n      <td>0.036842</td>\n      <td>...</td>\n      <td>0.053703</td>\n      <td>0.049026</td>\n      <td>0.079774</td>\n      <td>0.265372</td>\n      <td>0.166956</td>\n      <td>0.000000</td>\n      <td>0.210735</td>\n      <td>0.206531</td>\n      <td>0.168160</td>\n      <td>0.045358</td>\n    </tr>\n    <tr>\n      <th>5</th>\n      <td>0.281620</td>\n      <td>0.054211</td>\n      <td>0.000000</td>\n      <td>0.000000</td>\n      <td>1.000000</td>\n      <td>0.179655</td>\n      <td>0.245795</td>\n      <td>0.150137</td>\n      <td>0.031561</td>\n      <td>0.104972</td>\n      <td>...</td>\n      <td>0.234222</td>\n      <td>0.054612</td>\n      <td>0.081105</td>\n      <td>0.028153</td>\n      <td>0.135078</td>\n      <td>0.053117</td>\n      <td>0.159443</td>\n      <td>0.070183</td>\n      <td>0.101943</td>\n      <td>0.249954</td>\n    </tr>\n  </tbody>\n</table>\n<p>5 rows × 943 columns</p>\n</div>"
     },
     "execution_count": 14,
     "metadata": {},
     "output_type": "execute_result"
    }
   ],
   "source": [
    "user_similarity.head()"
   ],
   "metadata": {
    "collapsed": false
   }
  },
  {
   "cell_type": "code",
   "execution_count": 15,
   "outputs": [],
   "source": [
    "# 주어진 영화(movie_id)의 가중 평균 rating을 계산하는 함수\n",
    "def CF_simple(user_id, movie_id): # user_id와 movie_id를 이용해서\n",
    "    if movie_id in ratings_matrix.columns:\n",
    "        sim_scores = user_similarity[user_id].copy() # 유사도를 얻어내고\n",
    "        movie_ratings = ratings_matrix[movie_id].copy() # 다른 사람들의 평점 정보를 얻어\n",
    "        none_rating_idx = movie_ratings[movie_ratings.isnull()].index\n",
    "        movie_ratings = movie_ratings.dropna()\n",
    "        sim_scores = sim_scores.drop(none_rating_idx)\n",
    "        mean_rating = np.dot(sim_scores, movie_ratings) / sim_scores.sum() # 가중평균을 한다.\n",
    "    else:\n",
    "        mean_rating = 3.0\n",
    "    return mean_rating"
   ],
   "metadata": {
    "collapsed": false
   }
  },
  {
   "cell_type": "code",
   "execution_count": 16,
   "outputs": [
    {
     "data": {
      "text/plain": "1.0152192405149216"
     },
     "execution_count": 16,
     "metadata": {},
     "output_type": "execute_result"
    }
   ],
   "source": [
    "# 정확도 계산\n",
    "score(CF_simple)"
   ],
   "metadata": {
    "collapsed": false
   }
  },
  {
   "cell_type": "markdown",
   "source": [
    "### 3.4 이웃을 고려한 CF"
   ],
   "metadata": {
    "collapsed": false
   }
  },
  {
   "cell_type": "code",
   "execution_count": 17,
   "outputs": [],
   "source": [
    "# score 함수 수정 : 유사집단의 크기를 미리 정하기 위해 기존 score 함수에 neighbor_size 인자값 추가\n",
    "def score(model, neighbor_size = 0):\n",
    "    id_pairs = zip(x_test['user_id'], x_test['movie_id'])\n",
    "    y_pred = np.array([model(user, movie, neighbor_size) for (user, movie) in id_pairs])\n",
    "    y_true = np.array(x_test['rating'])\n",
    "    return RMSE(y_true, y_pred)"
   ],
   "metadata": {
    "collapsed": false
   }
  },
  {
   "cell_type": "code",
   "execution_count": 22,
   "outputs": [
    {
     "data": {
      "text/plain": "1.0066534267432241"
     },
     "execution_count": 22,
     "metadata": {},
     "output_type": "execute_result"
    }
   ],
   "source": [
    "def CF_knn(user_id, movie_id, neighbor_size = 0):\n",
    "    if movie_id in ratings_matrix.columns:\n",
    "        sim_scores = user_similarity[user_id].copy()\n",
    "        movie_ratings = ratings_matrix[movie_id].copy()\n",
    "        none_rating_idx = movie_ratings[movie_ratings.isnull()].index\n",
    "        movie_ratings = movie_ratings.dropna()\n",
    "        sim_scores = sim_scores.drop(none_rating_idx)\n",
    "\n",
    "        if neighbor_size == 0: # simple CF\n",
    "            mean_rating = np.dot(sim_scores, movie_ratings) / sim_scores.sum()\n",
    "        else:\n",
    "            if len(sim_scores) > 1:\n",
    "                neighbor_size = min(neighbor_size, len(sim_scores))\n",
    "                sim_scores = np.array(sim_scores)\n",
    "                movie_ratings = np.array(movie_ratings)\n",
    "                user_idx = np.argsort(sim_scores)\n",
    "                sim_scores = sim_scores[user_idx][-neighbor_size:]\n",
    "                movie_ratings = movie_ratings[user_idx][-neighbor_size:]\n",
    "                mean_rating = np.dot(sim_scores, movie_ratings) / sim_scores.sum()\n",
    "            else:\n",
    "                mean_rating = 3.0\n",
    "    else:\n",
    "        mean_rating = 3.0\n",
    "\n",
    "    return mean_rating\n",
    "\n",
    "# 정확도 계산\n",
    "score(CF_knn, neighbor_size=30)"
   ],
   "metadata": {
    "collapsed": false
   }
  },
  {
   "cell_type": "code",
   "execution_count": 23,
   "outputs": [
    {
     "data": {
      "text/plain": "movie_id\n1189                      Prefontaine (1997)\n1293                         Star Kid (1997)\n1467    Saint of Fort Washington, The (1993)\n1500               Santa with Muscles (1996)\n22                         Braveheart (1995)\nName: title, dtype: object"
     },
     "execution_count": 23,
     "metadata": {},
     "output_type": "execute_result"
    }
   ],
   "source": [
    "# 실제 주어진 사용자에 대해 추천을 받는 기능 구현 (전체 데이터 사용)\n",
    "ratings_matrix = ratings.pivot(index = \"user_id\", columns = \"movie_id\", values = \"rating\")\n",
    "matrix_dummy = ratings_matrix.copy().fillna(0)\n",
    "user_similarity = cosine_similarity(matrix_dummy, matrix_dummy)\n",
    "user_similarity = pd.DataFrame(user_similarity,\n",
    "                               index = ratings_matrix.index,\n",
    "                               columns = ratings_matrix.index)\n",
    "\n",
    "def recom_movie(user_id, n_items, neighbor_size = 30):\n",
    "    user_movie = ratings_matrix.loc[user_id].copy()\n",
    "\n",
    "    for movie in ratings_matrix.columns:\n",
    "        if pd.notnull(user_movie.loc[movie]):\n",
    "            user_movie.loc[movie] = 0\n",
    "\n",
    "        else:\n",
    "            user_movie.loc[movie] = CF_knn(user_id, movie, neighbor_size)\n",
    "    movie_sort = user_movie.sort_values(ascending=False)[:n_items]\n",
    "    recom_movies = movies.loc[movie_sort.index]\n",
    "    recommendations = recom_movies['title']\n",
    "    return recommendations\n",
    "\n",
    "recom_movie(user_id = 729, n_items = 5, neighbor_size = 30)"
   ],
   "metadata": {
    "collapsed": false
   }
  },
  {
   "cell_type": "markdown",
   "source": [
    "### 3.5 최적의 이웃 크기 결정"
   ],
   "metadata": {
    "collapsed": false
   }
  },
  {
   "cell_type": "code",
   "execution_count": 24,
   "outputs": [
    {
     "name": "stdout",
     "output_type": "stream",
     "text": [
      "Neighbor size = 10 : RMSE = 0.8064\n",
      "Neighbor size = 20 : RMSE = 0.8738\n",
      "Neighbor size = 30 : RMSE = 0.8999\n",
      "Neighbor size = 40 : RMSE = 0.9138\n",
      "Neighbor size = 50 : RMSE = 0.9226\n",
      "Neighbor size = 60 : RMSE = 0.9288\n"
     ]
    }
   ],
   "source": [
    "# neighbor size를 10,20,..., 60인 경우에 대해 RMSE를 계산하고 이를 출력\n",
    "for neighbor_size in [10,20,30,40,50,60]:\n",
    "    print('Neighbor size = %d : RMSE = %.4f'%(neighbor_size, score(CF_knn, neighbor_size)))"
   ],
   "metadata": {
    "collapsed": false
   }
  },
  {
   "cell_type": "markdown",
   "source": [
    "### 3.6 사용자의 평가경향을 고려한 CF"
   ],
   "metadata": {
    "collapsed": false
   }
  },
  {
   "cell_type": "code",
   "execution_count": 25,
   "outputs": [],
   "source": [
    "# train, test set 분할\n",
    "x = ratings.copy()\n",
    "y = ratings['user_id']\n",
    "\n",
    "x_train, x_test, y_train, y_test = train_test_split(x, y,\n",
    "                                                    test_size = 0.25,\n",
    "                                                    stratify = y) # 계층화 추출\n",
    "ratings_matrix = x_train.pivot(index = \"user_id\", columns = \"movie_id\", values = \"rating\")\n",
    "\n",
    "matrix_dummy = ratings_matrix.copy().fillna(0)\n",
    "user_similarity = cosine_similarity(matrix_dummy, matrix_dummy)\n",
    "user_similarity = pd.DataFrame(user_similarity,\n",
    "                               index = ratings_matrix.index,\n",
    "                               columns = ratings_matrix.index)"
   ],
   "metadata": {
    "collapsed": false
   }
  },
  {
   "cell_type": "code",
   "execution_count": 27,
   "outputs": [
    {
     "data": {
      "text/plain": "0.9425196971784293"
     },
     "execution_count": 27,
     "metadata": {},
     "output_type": "execute_result"
    }
   ],
   "source": [
    "# 사용자의 평가경향을 고려한 함수\n",
    "rating_mean = ratings_matrix.mean(axis =1)\n",
    "rating_bias = (ratings_matrix.T - rating_mean).T\n",
    "\n",
    "def CF_knn_bias(user_id, movie_id, neighbor_size = 0):\n",
    "    if movie_id in rating_bias.columns:\n",
    "        sim_scores = user_similarity[user_id].copy()\n",
    "        movie_ratings = rating_bias[movie_id].copy()\n",
    "        none_rating_idx = movie_ratings[movie_ratings.isnull()].index\n",
    "        movie_ratings = movie_ratings.drop(none_rating_idx)\n",
    "        sim_scores = sim_scores.drop(none_rating_idx)\n",
    "\n",
    "        if neighbor_size == 0:\n",
    "            prediction = np.dot(sim_scores, movie_ratings) / sim_scores.sum()\n",
    "            prediction = prediction + rating_mean[user_id]\n",
    "\n",
    "        else:\n",
    "            if len(sim_scores) > 1:\n",
    "                neighbor_size = min(neighbor_size, len(sim_scores))\n",
    "                sim_scores = np.array(sim_scores)\n",
    "                movie_ratings = np.array(movie_ratings)\n",
    "                user_idx = np.argsort(sim_scores)\n",
    "                sim_scores = sim_scores[user_idx][-neighbor_size:]\n",
    "                movie_ratings = movie_ratings[user_idx][-neighbor_size:]\n",
    "                prediction = np.dot(sim_scores, movie_ratings) / sim_scores.sum()\n",
    "                prediction = prediction + rating_mean[user_id]\n",
    "            else:\n",
    "                prediction = rating_mean[user_id]\n",
    "    else:\n",
    "        prediction = rating_mean[user_id]\n",
    "\n",
    "    return prediction\n",
    "\n",
    "score(CF_knn_bias, 30)"
   ],
   "metadata": {
    "collapsed": false
   }
  },
  {
   "cell_type": "markdown",
   "source": [
    "### 3.7 그 외의 CF 정확도 개선 방법"
   ],
   "metadata": {
    "collapsed": false
   }
  },
  {
   "cell_type": "code",
   "execution_count": 29,
   "outputs": [
    {
     "name": "stdout",
     "output_type": "stream",
     "text": [
      "(943, 943)\n"
     ]
    }
   ],
   "source": [
    "# 신뢰도를 반영한 추천\n",
    "rating_binary_1 = np.array(ratings_matrix > 0).astype(float)\n",
    "rating_binary_2 = rating_binary_1.T\n",
    "\n",
    "counts = np.dot(rating_binary_1, rating_binary_2)\n",
    "counts = pd.DataFrame(counts, index = ratings_matrix.index, columns = ratings_matrix.index).fillna(0)\n",
    "print(counts.shape)"
   ],
   "metadata": {
    "collapsed": false
   }
  },
  {
   "cell_type": "code",
   "execution_count": 30,
   "outputs": [
    {
     "data": {
      "text/plain": "user_id    1     2     3     4      5     6     7     8    9     10   ...  \\\nuser_id                                                               ...   \n1        204.0  12.0   4.0   5.0   44.0  47.0  75.0  18.0  4.0  41.0  ...   \n2         12.0  46.0   6.0   4.0    3.0  22.0  10.0   4.0  3.0   6.0  ...   \n3          4.0   6.0  40.0   8.0    0.0   7.0   6.0   3.0  0.0   4.0  ...   \n4          5.0   4.0   8.0  18.0    1.0   5.0   6.0   4.0  1.0   3.0  ...   \n5         44.0   3.0   0.0   1.0  131.0  23.0  63.0  12.0  4.0  23.0  ...   \n\nuser_id   934  935   936   937   938  939   940  941   942   943  \nuser_id                                                           \n1        40.0  7.0  36.0  14.0  20.0  7.0  25.0  5.0  16.0  37.0  \n2         7.0  6.0  19.0  12.0   8.0  8.0   9.0  4.0   7.0   4.0  \n3         2.0  1.0   9.0   4.0   5.0  2.0   7.0  3.0   7.0   1.0  \n4         2.0  1.0   4.0   4.0   3.0  1.0   7.0  4.0   7.0   2.0  \n5        34.0  4.0   9.0   4.0  10.0  5.0  17.0  3.0   7.0  32.0  \n\n[5 rows x 943 columns]",
      "text/html": "<div>\n<style scoped>\n    .dataframe tbody tr th:only-of-type {\n        vertical-align: middle;\n    }\n\n    .dataframe tbody tr th {\n        vertical-align: top;\n    }\n\n    .dataframe thead th {\n        text-align: right;\n    }\n</style>\n<table border=\"1\" class=\"dataframe\">\n  <thead>\n    <tr style=\"text-align: right;\">\n      <th>user_id</th>\n      <th>1</th>\n      <th>2</th>\n      <th>3</th>\n      <th>4</th>\n      <th>5</th>\n      <th>6</th>\n      <th>7</th>\n      <th>8</th>\n      <th>9</th>\n      <th>10</th>\n      <th>...</th>\n      <th>934</th>\n      <th>935</th>\n      <th>936</th>\n      <th>937</th>\n      <th>938</th>\n      <th>939</th>\n      <th>940</th>\n      <th>941</th>\n      <th>942</th>\n      <th>943</th>\n    </tr>\n    <tr>\n      <th>user_id</th>\n      <th></th>\n      <th></th>\n      <th></th>\n      <th></th>\n      <th></th>\n      <th></th>\n      <th></th>\n      <th></th>\n      <th></th>\n      <th></th>\n      <th></th>\n      <th></th>\n      <th></th>\n      <th></th>\n      <th></th>\n      <th></th>\n      <th></th>\n      <th></th>\n      <th></th>\n      <th></th>\n      <th></th>\n    </tr>\n  </thead>\n  <tbody>\n    <tr>\n      <th>1</th>\n      <td>204.0</td>\n      <td>12.0</td>\n      <td>4.0</td>\n      <td>5.0</td>\n      <td>44.0</td>\n      <td>47.0</td>\n      <td>75.0</td>\n      <td>18.0</td>\n      <td>4.0</td>\n      <td>41.0</td>\n      <td>...</td>\n      <td>40.0</td>\n      <td>7.0</td>\n      <td>36.0</td>\n      <td>14.0</td>\n      <td>20.0</td>\n      <td>7.0</td>\n      <td>25.0</td>\n      <td>5.0</td>\n      <td>16.0</td>\n      <td>37.0</td>\n    </tr>\n    <tr>\n      <th>2</th>\n      <td>12.0</td>\n      <td>46.0</td>\n      <td>6.0</td>\n      <td>4.0</td>\n      <td>3.0</td>\n      <td>22.0</td>\n      <td>10.0</td>\n      <td>4.0</td>\n      <td>3.0</td>\n      <td>6.0</td>\n      <td>...</td>\n      <td>7.0</td>\n      <td>6.0</td>\n      <td>19.0</td>\n      <td>12.0</td>\n      <td>8.0</td>\n      <td>8.0</td>\n      <td>9.0</td>\n      <td>4.0</td>\n      <td>7.0</td>\n      <td>4.0</td>\n    </tr>\n    <tr>\n      <th>3</th>\n      <td>4.0</td>\n      <td>6.0</td>\n      <td>40.0</td>\n      <td>8.0</td>\n      <td>0.0</td>\n      <td>7.0</td>\n      <td>6.0</td>\n      <td>3.0</td>\n      <td>0.0</td>\n      <td>4.0</td>\n      <td>...</td>\n      <td>2.0</td>\n      <td>1.0</td>\n      <td>9.0</td>\n      <td>4.0</td>\n      <td>5.0</td>\n      <td>2.0</td>\n      <td>7.0</td>\n      <td>3.0</td>\n      <td>7.0</td>\n      <td>1.0</td>\n    </tr>\n    <tr>\n      <th>4</th>\n      <td>5.0</td>\n      <td>4.0</td>\n      <td>8.0</td>\n      <td>18.0</td>\n      <td>1.0</td>\n      <td>5.0</td>\n      <td>6.0</td>\n      <td>4.0</td>\n      <td>1.0</td>\n      <td>3.0</td>\n      <td>...</td>\n      <td>2.0</td>\n      <td>1.0</td>\n      <td>4.0</td>\n      <td>4.0</td>\n      <td>3.0</td>\n      <td>1.0</td>\n      <td>7.0</td>\n      <td>4.0</td>\n      <td>7.0</td>\n      <td>2.0</td>\n    </tr>\n    <tr>\n      <th>5</th>\n      <td>44.0</td>\n      <td>3.0</td>\n      <td>0.0</td>\n      <td>1.0</td>\n      <td>131.0</td>\n      <td>23.0</td>\n      <td>63.0</td>\n      <td>12.0</td>\n      <td>4.0</td>\n      <td>23.0</td>\n      <td>...</td>\n      <td>34.0</td>\n      <td>4.0</td>\n      <td>9.0</td>\n      <td>4.0</td>\n      <td>10.0</td>\n      <td>5.0</td>\n      <td>17.0</td>\n      <td>3.0</td>\n      <td>7.0</td>\n      <td>32.0</td>\n    </tr>\n  </tbody>\n</table>\n<p>5 rows × 943 columns</p>\n</div>"
     },
     "execution_count": 30,
     "metadata": {},
     "output_type": "execute_result"
    }
   ],
   "source": [
    "counts.head() # user들 간의 공통으로 평가한 아이템의 개수"
   ],
   "metadata": {
    "collapsed": false
   }
  },
  {
   "cell_type": "code",
   "execution_count": 32,
   "outputs": [
    {
     "data": {
      "text/plain": "0.9424551104388059"
     },
     "execution_count": 32,
     "metadata": {},
     "output_type": "execute_result"
    }
   ],
   "source": [
    "def CF_knn_bias_sig(user_id, movie_id, neighbor_size = 0):\n",
    "    if movie_id in rating_bias:\n",
    "        sim_scores = user_similarity[user_id].copy()\n",
    "        movie_ratings = rating_bias[movie_id].copy()\n",
    "\n",
    "        no_rating = movie_ratings.isnull()\n",
    "        common_counts = counts[user_id]\n",
    "        low_significance = common_counts < SIG_LEVEL\n",
    "        none_rating_idx = movie_ratings[no_rating | low_significance].index\n",
    "\n",
    "        movie_ratings = movie_ratings.drop(none_rating_idx)\n",
    "        sim_scores = sim_scores.drop(none_rating_idx)\n",
    "\n",
    "        if neighbor_size == 0:\n",
    "            prediction = np.dot(sim_scores, movie_ratings) / sim_scores.sum()\n",
    "            prediction = prediction + rating_mean[user_id]\n",
    "        else:\n",
    "            if len(sim_scores) > MIN_RATINGS:\n",
    "                neighbor_size = min(neighbor_size, len(sim_scores))\n",
    "                sim_scores = np.array(sim_scores)\n",
    "                movie_ratings = np.array(movie_ratings)\n",
    "                user_idx = np.argsort(sim_scores)\n",
    "                sim_scores = sim_scores[user_idx][-neighbor_size:]\n",
    "                movie_ratings = movie_ratings[user_idx][-neighbor_size:]\n",
    "                prediction = np.dot(sim_scores, movie_ratings) / sim_scores.sum()\n",
    "                prediction = prediction + rating_mean[user_id]\n",
    "            else:\n",
    "                prediction = rating_mean[user_id]\n",
    "    else:\n",
    "        prediction = rating_mean[user_id]\n",
    "\n",
    "    # 추가 - rating의 범위를 제한해서 RMSE를 낮추자\n",
    "    if prediction <=1:\n",
    "        prediction = 1\n",
    "    elif prediction >=5:\n",
    "        prediction = 5\n",
    "\n",
    "    return prediction\n",
    "\n",
    "SIG_LEVEL = 3\n",
    "MIN_RATINGS = 3\n",
    "score(CF_knn_bias_sig, 30)"
   ],
   "metadata": {
    "collapsed": false
   }
  },
  {
   "cell_type": "markdown",
   "source": [
    "### 3.8 사용자 기반 CF과 아이템 기반 CF"
   ],
   "metadata": {
    "collapsed": false
   }
  },
  {
   "cell_type": "code",
   "execution_count": 33,
   "outputs": [],
   "source": [
    "# score 함수 재설정\n",
    "def score(model):\n",
    "    id_pairs = zip(x_test['user_id'], x_test['movie_id'])\n",
    "    y_pred = np.array([model(user, movie) for (user, movie) in id_pairs])\n",
    "    y_true = np.array(x_test['rating'])\n",
    "    return RMSE(y_true, y_pred)"
   ],
   "metadata": {
    "collapsed": false
   }
  },
  {
   "cell_type": "code",
   "execution_count": 36,
   "outputs": [],
   "source": [
    "rating_matrix_t = np.transpose(ratings_matrix)\n",
    "\n",
    "matrix_dummy = ratings_matrix.T.copy().fillna(0)\n",
    "\n",
    "item_similarity = cosine_similarity(matrix_dummy, matrix_dummy)\n",
    "item_similarity = pd.DataFrame(item_similarity,\n",
    "                               index = rating_matrix_t.index, columns = rating_matrix_t.index)"
   ],
   "metadata": {
    "collapsed": false
   }
  },
  {
   "cell_type": "code",
   "execution_count": 38,
   "outputs": [
    {
     "data": {
      "text/plain": "1.0133776297201365"
     },
     "execution_count": 38,
     "metadata": {},
     "output_type": "execute_result"
    }
   ],
   "source": [
    "def CF_IBCF(user_id, movie_id):\n",
    "    if movie_id in item_similarity.columns:\n",
    "        sim_scores = item_similarity[movie_id]\n",
    "        user_rating = rating_matrix_t[user_id]\n",
    "        none_rating_idx = user_rating[user_rating.isnull()].index\n",
    "        user_rating = user_rating.dropna()\n",
    "        sim_scores = sim_scores.drop(none_rating_idx)\n",
    "        mean_rating = np.dot(sim_scores, user_rating) / sim_scores.sum()\n",
    "    else:\n",
    "        mean_rating = 3.0\n",
    "\n",
    "    return mean_rating\n",
    "\n",
    "score(CF_IBCF)"
   ],
   "metadata": {
    "collapsed": false
   }
  },
  {
   "cell_type": "code",
   "execution_count": null,
   "outputs": [],
   "source": [],
   "metadata": {
    "collapsed": false
   }
  }
 ],
 "metadata": {
  "kernelspec": {
   "display_name": "Python 3",
   "language": "python",
   "name": "python3"
  },
  "language_info": {
   "codemirror_mode": {
    "name": "ipython",
    "version": 2
   },
   "file_extension": ".py",
   "mimetype": "text/x-python",
   "name": "python",
   "nbconvert_exporter": "python",
   "pygments_lexer": "ipython2",
   "version": "2.7.6"
  }
 },
 "nbformat": 4,
 "nbformat_minor": 0
}
