{
 "cells": [
  {
   "cell_type": "markdown",
   "source": [
    "## 4. Matrix Factorization"
   ],
   "metadata": {
    "collapsed": false
   }
  },
  {
   "cell_type": "code",
   "execution_count": 5,
   "outputs": [],
   "source": [
    "import os\n",
    "import numpy as np\n",
    "import pandas as pd"
   ],
   "metadata": {
    "collapsed": false
   }
  },
  {
   "cell_type": "code",
   "execution_count": 6,
   "outputs": [],
   "source": [
    "# 사용자 u.user 파일을 DataFrame으로 읽기\n",
    "base_src = '../data'\n",
    "u_data_src = os.path.join(base_src, 'u.data')\n",
    "r_cols = ['user_id', 'movie_id', 'rating', 'timestamp']\n",
    "ratings = pd.read_csv(u_data_src,\n",
    "                    sep = \"\\t\",\n",
    "                    names = r_cols,\n",
    "                    encoding = 'latin-1')\n",
    "# timestamp 제거\n",
    "ratings = ratings[['user_id', 'movie_id', 'rating']].astype(int)"
   ],
   "metadata": {
    "collapsed": false
   }
  },
  {
   "cell_type": "code",
   "execution_count": 7,
   "outputs": [
    {
     "data": {
      "text/plain": "   user_id  movie_id  rating\n0      196       242       3\n1      186       302       3\n2       22       377       1\n3      244        51       2\n4      166       346       1",
      "text/html": "<div>\n<style scoped>\n    .dataframe tbody tr th:only-of-type {\n        vertical-align: middle;\n    }\n\n    .dataframe tbody tr th {\n        vertical-align: top;\n    }\n\n    .dataframe thead th {\n        text-align: right;\n    }\n</style>\n<table border=\"1\" class=\"dataframe\">\n  <thead>\n    <tr style=\"text-align: right;\">\n      <th></th>\n      <th>user_id</th>\n      <th>movie_id</th>\n      <th>rating</th>\n    </tr>\n  </thead>\n  <tbody>\n    <tr>\n      <th>0</th>\n      <td>196</td>\n      <td>242</td>\n      <td>3</td>\n    </tr>\n    <tr>\n      <th>1</th>\n      <td>186</td>\n      <td>302</td>\n      <td>3</td>\n    </tr>\n    <tr>\n      <th>2</th>\n      <td>22</td>\n      <td>377</td>\n      <td>1</td>\n    </tr>\n    <tr>\n      <th>3</th>\n      <td>244</td>\n      <td>51</td>\n      <td>2</td>\n    </tr>\n    <tr>\n      <th>4</th>\n      <td>166</td>\n      <td>346</td>\n      <td>1</td>\n    </tr>\n  </tbody>\n</table>\n</div>"
     },
     "execution_count": 7,
     "metadata": {},
     "output_type": "execute_result"
    }
   ],
   "source": [
    "ratings.head()"
   ],
   "metadata": {
    "collapsed": false
   }
  },
  {
   "cell_type": "code",
   "execution_count": 30,
   "outputs": [
    {
     "name": "stdout",
     "output_type": "stream",
     "text": [
      "Iteration :  10 ; train RMSE = 0.9585\n",
      "Iteration :  20 ; train RMSE = 0.9373\n",
      "Iteration :  30 ; train RMSE = 0.9280\n",
      "Iteration :  40 ; train RMSE = 0.9224\n",
      "Iteration :  50 ; train RMSE = 0.9181\n",
      "Iteration :  60 ; train RMSE = 0.9141\n",
      "Iteration :  70 ; train RMSE = 0.9092\n",
      "Iteration :  80 ; train RMSE = 0.9024\n",
      "Iteration :  90 ; train RMSE = 0.8929\n",
      "Iteration :  100 ; train RMSE = 0.8806\n"
     ]
    }
   ],
   "source": [
    "class MF():\n",
    "    def __init__(self, ratings, hyper_params):\n",
    "        self.R = np.array(ratings)\n",
    "        self.num_users, self.num_items = np.shape(self.R)\n",
    "        self.K = hyper_params['K'] # num of latent factor(잠재 요인)\n",
    "        self.alpha = hyper_params['alpha'] # learning rate\n",
    "        self.beta = hyper_params['beta'] # regularization rate\n",
    "        self.iterations = hyper_params['iterations'] # num of iter (sgd)\n",
    "        self.verbose = hyper_params['verbose']\n",
    "\n",
    "    def rmse(self):\n",
    "        xs, ys = self.R.nonzero()\n",
    "        self.prediction = []\n",
    "        self.errors = []\n",
    "\n",
    "        for x, y in zip(xs, ys):\n",
    "            prediction = self.get_prediction(x,y)\n",
    "            self.prediction.append(prediction)\n",
    "            self.errors.append(self.R[x, y] - prediction)\n",
    "        self.prediction = np.array(self.prediction)\n",
    "        self.errors = np.array(self.errors)\n",
    "        return np.sqrt(np.mean(self.errors**2))\n",
    "\n",
    "    def train(self):\n",
    "        self.P = np.random.normal(scale = 1. / self.K, size = (self.num_users, self.K))\n",
    "        self.Q = np.random.normal(scale = 1. / self.K, size = (self.num_items, self.K))\n",
    "\n",
    "        self.b_u = np.zeros(self.num_users)\n",
    "        self.b_d = np.zeros(self.num_items)\n",
    "        self.b = np.mean(self.R[self.R.nonzero()])\n",
    "\n",
    "        rows, columns = self.R.nonzero()\n",
    "        self.samples = [(i, j, self.R[i, j]) for i, j in zip(rows, columns)]\n",
    "\n",
    "        training_precess = []\n",
    "        for i in range(self.iterations):\n",
    "            np.random.shuffle(self.samples)\n",
    "            self.sgd()\n",
    "            rmse = self.rmse()\n",
    "            training_precess.append((i+1, rmse))\n",
    "            if self.verbose:\n",
    "                if (i+1) % 10 == 0:\n",
    "                    print(\"Iteration : % d ; train RMSE = %.4f\"%(i+1, rmse))\n",
    "        return training_precess\n",
    "\n",
    "    def get_prediction(self, i, j):\n",
    "        prediction = self.b + self.b_u[i] + self.b_d[j] + self.P[i,:].dot(self.Q[j,:].T)\n",
    "        return prediction\n",
    "\n",
    "    def sgd(self):\n",
    "        for i, j, r in self.samples:\n",
    "            prediction = self.get_prediction(i, j)\n",
    "            e = (r - prediction)\n",
    "\n",
    "            self.b_u[i] += self.alpha * (e - (self.beta * self.b_u[i]))\n",
    "            self.b_d[j] += self.alpha * (e - (self.beta * self.b_d[j]))\n",
    "\n",
    "            self.P[i, :] += self.alpha * ((e * self.Q[j, :] - self.beta * self.P[i, :]))\n",
    "            self.Q[j, :] += self.alpha * ((e * self.P[i, :] - self.beta * self.Q[j, :]))\n",
    "\n",
    "\n",
    "R_temp = ratings.pivot(index = 'user_id',\n",
    "                       columns = 'movie_id',\n",
    "                       values = 'rating').fillna(0)\n",
    "\n",
    "\n",
    "hyper_params = {\n",
    "    'K' : 30,\n",
    "    'alpha' : 0.001,\n",
    "    'beta' : 0.02,\n",
    "    'iterations' : 100,\n",
    "    'verbose' : True\n",
    "}\n",
    "\n",
    "mf = MF(R_temp, hyper_params)\n",
    "\n",
    "train_process = mf.train()"
   ],
   "metadata": {
    "collapsed": false
   }
  },
  {
   "cell_type": "markdown",
   "source": [
    "### train, test set 분리"
   ],
   "metadata": {
    "collapsed": false
   }
  },
  {
   "cell_type": "code",
   "execution_count": 13,
   "outputs": [],
   "source": [
    "import os\n",
    "import numpy as np\n",
    "import pandas as pd"
   ],
   "metadata": {
    "collapsed": false
   }
  },
  {
   "cell_type": "code",
   "execution_count": 14,
   "outputs": [],
   "source": [
    "# 사용자 u.user 파일을 DataFrame으로 읽기\n",
    "base_src = '../data'\n",
    "u_data_src = os.path.join(base_src, 'u.data')\n",
    "r_cols = ['user_id', 'movie_id', 'rating', 'timestamp']\n",
    "ratings = pd.read_csv(u_data_src,\n",
    "                    sep = \"\\t\",\n",
    "                    names = r_cols,\n",
    "                    encoding = 'latin-1')\n",
    "# timestamp 제거\n",
    "ratings = ratings[['user_id', 'movie_id', 'rating']].astype(int)"
   ],
   "metadata": {
    "collapsed": false
   }
  },
  {
   "cell_type": "code",
   "execution_count": 22,
   "outputs": [],
   "source": [
    "# train, test set 분리\n",
    "from sklearn.utils import shuffle\n",
    "TRAIN_SIZE = 0.75\n",
    "ratings = shuffle(ratings, random_state=2023)\n",
    "cutoff = int(TRAIN_SIZE * len(ratings))\n",
    "ratings_train = ratings.iloc[:cutoff]\n",
    "ratings_test = ratings.iloc[cutoff:]"
   ],
   "metadata": {
    "collapsed": false
   }
  },
  {
   "cell_type": "code",
   "execution_count": 23,
   "outputs": [
    {
     "name": "stdout",
     "output_type": "stream",
     "text": [
      "(75000, 3)\n",
      "(25000, 3)\n"
     ]
    }
   ],
   "source": [
    "print(ratings_train.shape)\n",
    "print(ratings_test.shape)"
   ],
   "metadata": {
    "collapsed": false
   }
  },
  {
   "cell_type": "code",
   "execution_count": 28,
   "outputs": [
    {
     "name": "stdout",
     "output_type": "stream",
     "text": [
      "Iteration :  10 ; Train RMSE = 0.9673 ; Test RMSE = 0.9814\n",
      "Iteration :  20 ; Train RMSE = 0.9427 ; Test RMSE = 0.9608\n",
      "Iteration :  30 ; Train RMSE = 0.9317 ; Test RMSE = 0.9521\n",
      "Iteration :  40 ; Train RMSE = 0.9250 ; Test RMSE = 0.9473\n",
      "Iteration :  50 ; Train RMSE = 0.9203 ; Test RMSE = 0.9444\n",
      "Iteration :  60 ; Train RMSE = 0.9164 ; Test RMSE = 0.9424\n",
      "Iteration :  70 ; Train RMSE = 0.9128 ; Test RMSE = 0.9409\n",
      "Iteration :  80 ; Train RMSE = 0.9088 ; Test RMSE = 0.9395\n",
      "Iteration :  90 ; Train RMSE = 0.9041 ; Test RMSE = 0.9381\n",
      "Iteration :  100 ; Train RMSE = 0.8980 ; Test RMSE = 0.9364\n"
     ]
    }
   ],
   "source": [
    "class NEW_MF():\n",
    "    def __init__(self, ratings, hyper_params):\n",
    "        self.R = np.array(ratings)\n",
    "        self.num_users, self.num_items = np.shape(self.R)\n",
    "        self.K = hyper_params['K']\n",
    "        self.alpha = hyper_params['alpha']\n",
    "        self.beta = hyper_params['beta']\n",
    "        self.iterations = hyper_params['iterations']\n",
    "        self.verbose = hyper_params['verbose']\n",
    "\n",
    "        # movie lens data의 경우 uset, item의 index값이 연속된 정수 값으로 잘 정의되어 있다.\n",
    "        # 하지만 실제 데이터는 그렇지 않을 수 있다.\n",
    "        # 따라서, 실제 존재하는 index에 대해 mapping 하는 작업이 필요하다.\n",
    "\n",
    "        # item\n",
    "        item_id_index = []\n",
    "        index_item_id = []\n",
    "        for i, one_id in enumerate(ratings):\n",
    "            item_id_index.append([one_id, i])\n",
    "            index_item_id.append([i, one_id])\n",
    "        self.item_id_index = dict(item_id_index)\n",
    "        self.index_item_id = dict(index_item_id)\n",
    "\n",
    "        user_id_index = []\n",
    "        index_user_id = []\n",
    "        for i, one_id in enumerate(ratings.T):\n",
    "            user_id_index.append([one_id, i])\n",
    "            index_user_id.append([i, one_id])\n",
    "        self.user_id_index = dict(user_id_index)\n",
    "        self.index_user_id = dict(index_user_id)\n",
    "\n",
    "    def rmse(self):\n",
    "        # self.R 에서 평점이 있는 (0이 아닌) 요소의 인덱스 가져오기\n",
    "        xs, ys = self.R.nonzero()\n",
    "        # prediction과 error를 담을 리스트 변수 초기화\n",
    "        self.predictions = []\n",
    "        self.errors = []\n",
    "        # 평점이 있는 요소(사용자 x, 아이템 y) 각각에 대해서 아래의 코드를 실행\n",
    "        for x, y in zip(xs, ys):\n",
    "            # 사용자 x, 아이템 y에 대해서 평점 예측치를 get_prediction() 함수를 사용해서 계산\n",
    "            prediction = self.get_prediction(x,y)\n",
    "            # 예측값을 예측값 리스트에 추가\n",
    "            self.predictions.append(prediction)\n",
    "            # 실제값(R)과 예측값의 차이(errors) 계산해서 오차값 리스트에 추가\n",
    "            self.errors.append(self.R[x,y] - prediction)\n",
    "        # 예측값 리스트와 오차값 리스트를 numpy array 형태로 변환\n",
    "        self.errors = np.array(self.errors)\n",
    "        # error를 활용해서 RMSE 도출\n",
    "        return np.sqrt(np.mean(self.errors**2))\n",
    "\n",
    "    def sgd(self):\n",
    "        for i, j, r in self.samples:\n",
    "            # 사용자 i, 아이템 j에 대한 평점 예측치 계산\n",
    "            prediction = self.get_prediction(i, j)\n",
    "            # 실제 평점과 비교한 오차 계산\n",
    "            e = (r - prediction)\n",
    "\n",
    "            # 사용자 평가 경향 계산 및 업데이트\n",
    "            self.b_u[i] += self.alpha * (e - (self.beta * self.b_u[i]))\n",
    "            # 아이템 평가 경향 계산 및 업데이트\n",
    "            self.b_d[j] += self.alpha * (e - (self.beta * self.b_d[j]))\n",
    "\n",
    "            # P 행렬 계산 및 업데이트\n",
    "            self.P[i, :] += self.alpha * ((e * self.Q[j, :]) - (self.beta * self.P[i, :]))\n",
    "            # Q 행렬 계산 및 업데이트\n",
    "            self.Q[j, :] += self.alpha * ((e * self.P[i, :]) - (self.beta * self.Q[j, :]))\n",
    "\n",
    "    def get_prediction(self, i, j):\n",
    "        # 사용자 i, 아이템 j에 대한 평점 예측치를 앞에서 배웠던 식을 이용해서 구함.\n",
    "        prediction = self.b + self.b_u[i] + self.b_d[j] + self.P[i,:].dot(self.Q[j,:].T)\n",
    "        return prediction\n",
    "\n",
    "    # Test set 선정\n",
    "    def set_test(self, ratings_test):\n",
    "        test_set = []\n",
    "        for i in range(len(ratings_test)):\n",
    "            x = self.user_id_index[ratings_test.iloc[i,0]]\n",
    "            y = self.item_id_index[ratings_test.iloc[i,1]]\n",
    "            z = ratings_test.iloc[i,2]\n",
    "            test_set.append([x,y,z])\n",
    "            self.R[x,y] = 0\n",
    "        self.test_set = test_set\n",
    "        return test_set\n",
    "\n",
    "    # Test set RMSW 계산\n",
    "    def test_rmse(self):\n",
    "        error = 0\n",
    "        for one_set in self.test_set:\n",
    "            predicted = self.get_prediction(one_set[0], one_set[1])\n",
    "            # pow : e -> e**2\n",
    "            error += pow(one_set[2] - predicted, 2)\n",
    "        return np.sqrt(error/len(self.test_set))\n",
    "\n",
    "    def test(self):\n",
    "        self.P = np.random.normal(scale = 1./self.K,\n",
    "                                  size = (self.num_users, self.K))\n",
    "        self.Q = np.random.normal(scale = 1./self.K,\n",
    "                                  size = (self.num_items, self.K))\n",
    "        self.b_u = np.zeros(self.num_users)\n",
    "        self.b_d = np.zeros(self.num_items)\n",
    "        self.b = np.mean(self.R[self.R.nonzero()])\n",
    "\n",
    "        rows, columns = self.R.nonzero()\n",
    "        self.samples = [(i,j, self.R[i,j]) for i, j in zip(rows, columns)]\n",
    "\n",
    "        training_process = []\n",
    "        for i in range(self.iterations):\n",
    "            np.random.shuffle(self.samples)\n",
    "            self.sgd()\n",
    "            rmse1 = self.rmse() # train\n",
    "            rmse2 = self.test_rmse() # test\n",
    "            training_process.append((i+1, rmse1, rmse2))\n",
    "            if self.verbose:\n",
    "                if (i+1) % 10 == 0:\n",
    "                    print(\"Iteration : % d ; Train RMSE = %.4f ; Test RMSE = %.4f\"% (i+1, rmse1, rmse2))\n",
    "        return training_process\n",
    "\n",
    "    def get_one_prediction(self, user_id, item_id):\n",
    "        return self.get_prediction(self.user_id_index[user_id],\n",
    "                                   self.item_id_index[item_id])\n",
    "    def full_prediction(self):\n",
    "        return self.b + self.b_u[:, np.newaxis] + self.b_d[np.newaxis, :] + self.P.dot(self.Q.T)\n",
    "\n",
    "R_temp = ratings.pivot(index = 'user_id',\n",
    "                       columns = 'movie_id',\n",
    "                       values = 'rating').fillna(0)\n",
    "\n",
    "hyper_params = {\n",
    "    'K' : 30,\n",
    "    'alpha' : 0.001,\n",
    "    'beta' : 0.02,\n",
    "    'iterations' : 100,\n",
    "    'verbose' : True\n",
    "}\n",
    "\n",
    "mf = NEW_MF(R_temp, hyper_params)\n",
    "test_set = mf.set_test(ratings_test)\n",
    "result = mf.test()"
   ],
   "metadata": {
    "collapsed": false
   }
  },
  {
   "cell_type": "code",
   "execution_count": 29,
   "outputs": [
    {
     "data": {
      "text/plain": "user_id     532\nmovie_id    373\nrating        3\nName: 29900, dtype: int64"
     },
     "execution_count": 29,
     "metadata": {},
     "output_type": "execute_result"
    }
   ],
   "source": [
    "ratings_test.iloc[0]"
   ],
   "metadata": {
    "collapsed": false
   }
  },
  {
   "cell_type": "code",
   "execution_count": null,
   "outputs": [],
   "source": [
    "print(mf.full_prediction())"
   ],
   "metadata": {
    "collapsed": false,
    "pycharm": {
     "is_executing": true
    }
   }
  },
  {
   "cell_type": "code",
   "execution_count": null,
   "outputs": [],
   "source": [
    "print(mf.get_one_prediction(1,2)) # 1번 사용자의 2번 아이템에 대한 예측 평점"
   ],
   "metadata": {
    "collapsed": false
   }
  },
  {
   "cell_type": "markdown",
   "source": [
    "### 4.5 MF의 최적 파라미터 찾기"
   ],
   "metadata": {
    "collapsed": false
   }
  },
  {
   "cell_type": "code",
   "execution_count": null,
   "outputs": [],
   "source": [
    "# 최적의 K 값 찾기\n",
    "results = []\n",
    "index = []\n",
    "\n",
    "R_temp = ratings.pivot(index = 'user_id',\n",
    "                       columns = 'movie_id',\n",
    "                       values = 'rating').fillna(0)\n",
    "\n",
    "for K in range(50, 261, 10):\n",
    "    print(f'K : {K}')\n",
    "    hyper_params = {\n",
    "        'K' : K,\n",
    "    'alpha' : 0.001,\n",
    "    'beta' : 0.02,\n",
    "    'iterations' : 300,\n",
    "    'verbose' : True\n",
    "    }\n",
    "    mf = NEW_MF(R_temp, hyper_params)\n",
    "    test_set = mf.set_test(ratings_test)\n",
    "    result = mf.test()\n",
    "    index.append(K)\n",
    "    results.append(result)"
   ],
   "metadata": {
    "collapsed": false,
    "pycharm": {
     "is_executing": true
    }
   }
  },
  {
   "cell_type": "code",
   "execution_count": null,
   "outputs": [],
   "source": [
    "summary = []\n",
    "for i in range(len(result)):\n",
    "    RMSE = []\n",
    "    for result in results[i]:\n",
    "        RMSE.append(result[2])\n",
    "    min = np.min(RMSE)\n",
    "    j = RMSE.index(min)\n",
    "    summary.append([index[i], j + 1, RMSE[j]])"
   ],
   "metadata": {
    "collapsed": false
   }
  },
  {
   "cell_type": "code",
   "execution_count": null,
   "outputs": [],
   "source": [],
   "metadata": {
    "collapsed": false
   }
  }
 ],
 "metadata": {
  "kernelspec": {
   "display_name": "Python 3",
   "language": "python",
   "name": "python3"
  },
  "language_info": {
   "codemirror_mode": {
    "name": "ipython",
    "version": 2
   },
   "file_extension": ".py",
   "mimetype": "text/x-python",
   "name": "python",
   "nbconvert_exporter": "python",
   "pygments_lexer": "ipython2",
   "version": "2.7.6"
  }
 },
 "nbformat": 4,
 "nbformat_minor": 0
}
